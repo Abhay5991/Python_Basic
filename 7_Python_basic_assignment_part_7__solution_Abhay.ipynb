{
 "cells": [
  {
   "cell_type": "markdown",
   "id": "b50ba238",
   "metadata": {},
   "source": [
    "# Python_basic_assignment_part_6"
   ]
  },
  {
   "cell_type": "markdown",
   "id": "91d4e199",
   "metadata": {},
   "source": [
    "## 1. What is the name of the feature responsible for generating Regex objects?\n",
    "### Answer:-"
   ]
  },
  {
   "cell_type": "markdown",
   "id": "f1191387",
   "metadata": {},
   "source": [
    "- The re.compile() function returns Regex objects.\n",
    "- First, we’ll import the re module. Then write out the regex pattern."
   ]
  },
  {
   "cell_type": "code",
   "execution_count": 3,
   "id": "cb49828e",
   "metadata": {},
   "outputs": [],
   "source": [
    "import re\n",
    "\n",
    "pattern = re.compile(\"Abhay\")"
   ]
  },
  {
   "cell_type": "code",
   "execution_count": 4,
   "id": "f428dc7b",
   "metadata": {},
   "outputs": [
    {
     "data": {
      "text/plain": [
       "re.compile(r'Abhay', re.UNICODE)"
      ]
     },
     "execution_count": 4,
     "metadata": {},
     "output_type": "execute_result"
    }
   ],
   "source": [
    "pattern"
   ]
  },
  {
   "cell_type": "markdown",
   "id": "de19051e",
   "metadata": {},
   "source": [
    "- The purpose of the compile method is to compile the regex pattern which will be used for matching later."
   ]
  },
  {
   "cell_type": "markdown",
   "id": "5d7669bd",
   "metadata": {},
   "source": [
    "## 2. Why do raw strings often appear in Regex objects?\n",
    "### Answer:-"
   ]
  },
  {
   "cell_type": "markdown",
   "id": "80c5d160",
   "metadata": {},
   "source": [
    "- Raw strings are used so that backslashes do not have to be escaped.\n",
    "- Raw strings are raw string literals that treat backslash (\\ ) as a literal character. \n",
    "- For example, if we try to print a string with a “\\n” inside, it will add one line break. But if we mark it as a raw string,     it will simply print out the “\\n” as a normal character."
   ]
  },
  {
   "cell_type": "code",
   "execution_count": 5,
   "id": "6407e2d1",
   "metadata": {},
   "outputs": [
    {
     "name": "stdout",
     "output_type": "stream",
     "text": [
      "This is a \n",
      " normal string\n",
      "This is a \\n raw string\n"
     ]
    }
   ],
   "source": [
    "dummy_str = \"This is a \\n normal string\"\n",
    "print(dummy_str)\n",
    "\n",
    "raw_dummy_str = r\"This is a \\n raw string\"\n",
    "print(raw_dummy_str)"
   ]
  },
  {
   "cell_type": "markdown",
   "id": "27e7d711",
   "metadata": {},
   "source": [
    "## 3. What is the return value of the search() method?\n",
    "### Answer :-"
   ]
  },
  {
   "cell_type": "markdown",
   "id": "a13028cb",
   "metadata": {},
   "source": [
    "- The search() method returns Match objects.\n",
    "- The search() method searches through a string looking for the first location where the regular expression pattern produces a match, and return a corresponding match object. It returns None if no position in the string matches the pattern"
   ]
  },
  {
   "cell_type": "code",
   "execution_count": 12,
   "id": "4d3c222d",
   "metadata": {},
   "outputs": [
    {
     "name": "stdout",
     "output_type": "stream",
     "text": [
      "Abhay\n"
     ]
    }
   ],
   "source": [
    "import re\n",
    "\n",
    "pattern = re.compile(r\"Abhay\")\n",
    "result = pattern.search(\"AbhayKumar\")\n",
    "print(result.group())"
   ]
  },
  {
   "cell_type": "markdown",
   "id": "06cde6d5",
   "metadata": {},
   "source": [
    "## 4. From a Match item, how do you get the actual strings that match the pattern?\n",
    "### Answer:-"
   ]
  },
  {
   "cell_type": "markdown",
   "id": "76b62841",
   "metadata": {},
   "source": [
    "- The group() method returns strings of the matched text.\n",
    "- This method returns -1 if no match is found\n",
    "- The “re” module of python has numerous method, and to test whether a particular regular expression matches a specific string, you can use re.search(). The re.MatchObject provides additional information like which part of the string the match was found."
   ]
  },
  {
   "cell_type": "markdown",
   "id": "fab1e4d6",
   "metadata": {},
   "source": [
    "## 5. In the regex which created from the r'(\\d\\d\\d)-(\\d\\d\\d-\\d\\d\\d\\d)', what does group zero cover? Group 2? Group 1?\n",
    "### Answer:-"
   ]
  },
  {
   "cell_type": "markdown",
   "id": "256d8462",
   "metadata": {},
   "source": [
    "- Group 0 is the entire match, group 1 covers the first set of parentheses, and group 2 covers the second set of parentheses.\n",
    "- Group 0: (\\d\\d\\d)-(\\d\\d\\d-\\d\\d\\d\\d)\n",
    "- Group 1: (\\d\\d\\d)\n",
    "- Group 2: (\\d\\d\\d-\\d\\d\\d\\d)"
   ]
  },
  {
   "cell_type": "markdown",
   "id": "ce62e025",
   "metadata": {},
   "source": [
    "- To create a Regex object that matches the phone number pattern, enter the following into the interactive shell. (Remember that \\d means “a digit character” and \\d\\d\\d-\\d\\d\\d-\\d\\d\\d\\d is the regular expression for the correct phone number pattern.)"
   ]
  },
  {
   "cell_type": "code",
   "execution_count": 20,
   "id": "4226f8c7",
   "metadata": {},
   "outputs": [
    {
     "name": "stdout",
     "output_type": "stream",
     "text": [
      "Phone number found: 880-290-1377\n"
     ]
    }
   ],
   "source": [
    "phoneNumRegex = re.compile(r'\\d\\d\\d-\\d\\d\\d-\\d\\d\\d\\d')\n",
    "mo = phoneNumRegex.search('My number is 880-290-1377.')\n",
    "print('Phone number found: ' + mo.group())\n"
   ]
  },
  {
   "cell_type": "code",
   "execution_count": 23,
   "id": "26492564",
   "metadata": {},
   "outputs": [
    {
     "data": {
      "text/plain": [
       "'415'"
      ]
     },
     "execution_count": 23,
     "metadata": {},
     "output_type": "execute_result"
    }
   ],
   "source": [
    "phoneNumRegex = re.compile(r'(\\d\\d\\d)-(\\d\\d\\d-\\d\\d\\d\\d)')\n",
    "mo = phoneNumRegex.search('My number is 415-555-4242.')\n",
    "mo.group(1)\n"
   ]
  },
  {
   "cell_type": "code",
   "execution_count": 24,
   "id": "ce493372",
   "metadata": {},
   "outputs": [
    {
     "data": {
      "text/plain": [
       "'555-4242'"
      ]
     },
     "execution_count": 24,
     "metadata": {},
     "output_type": "execute_result"
    }
   ],
   "source": [
    "mo.group(2)"
   ]
  },
  {
   "cell_type": "code",
   "execution_count": 25,
   "id": "5fe365fb",
   "metadata": {},
   "outputs": [
    {
     "data": {
      "text/plain": [
       "'415-555-4242'"
      ]
     },
     "execution_count": 25,
     "metadata": {},
     "output_type": "execute_result"
    }
   ],
   "source": [
    "mo.group(0)"
   ]
  },
  {
   "cell_type": "markdown",
   "id": "c022a226",
   "metadata": {},
   "source": [
    "## 6. In standard expression syntax, parentheses and intervals have distinct meanings. How can you tell a regex that you want it to fit real parentheses and periods?\n",
    "### Answer:-"
   ]
  },
  {
   "cell_type": "markdown",
   "id": "4bb53980",
   "metadata": {},
   "source": [
    "- Periods and parentheses can be escaped with a backslash: \\., \\(, and \\).\n",
    "- Using r'.()'\n"
   ]
  },
  {
   "cell_type": "markdown",
   "id": "8d6bb06b",
   "metadata": {},
   "source": [
    "## 7. The findall() method returns a string list or a list of string tuples. What causes it to return one of the two options?\n",
    "### Answer:-"
   ]
  },
  {
   "cell_type": "markdown",
   "id": "3fcc1094",
   "metadata": {},
   "source": [
    "- If the regex has no groups, a list of strings is returned. If the regex has groups, a list of tuples of strings is returned.\n",
    "- When called on a regex with no groups, such as \\d\\d\\d-\\d\\d\\d-\\d\\d\\d\\d, the method findall() returns a list of string matches, such as ['(\\d\\d\\d)-(\\d\\d\\d\\d-\\d\\d\\d)', '(\\d\\d\\d)-(\\d\\d\\d\\d-\\d\\d\\d)'].\n",
    "\n",
    "- When called on a regex that has groups, such as (\\d\\d\\d)-(\\d\\d\\d)-(\\d\\d\\d\\d), the method findall() returns a list of tuples of strings(one string for each group), such as [('415', '555', '9999'),('212', '555','0000')]."
   ]
  },
  {
   "cell_type": "markdown",
   "id": "143e1fc9",
   "metadata": {},
   "source": [
    "## 8. In standard expressions, what does the | character mean?\n",
    "### Answer:-"
   ]
  },
  {
   "cell_type": "markdown",
   "id": "8291d2ab",
   "metadata": {},
   "source": [
    "- The | character signifies matching \"either, or\" between two groups.\n",
    "- The | character is called a pipe. You can use it anywhere you want to match one of many expressions. For example, the regular expressions r'Abhay|Kumar Aman' will match either 'Abhay' or 'Kumar Aman'.\n",
    "- It is used to match a particular character or a group of characters on either side. If the character on the left side is matched, then the right side's character is ignored.\n",
    "- A|b is an expression which gives various strings, but each string contains either a or b."
   ]
  },
  {
   "cell_type": "code",
   "execution_count": 29,
   "id": "69441c68",
   "metadata": {},
   "outputs": [
    {
     "data": {
      "text/plain": [
       "'Abhay'"
      ]
     },
     "execution_count": 29,
     "metadata": {},
     "output_type": "execute_result"
    }
   ],
   "source": [
    "fruitRegex = re.compile (r'Abhay|Kumar Aman')\n",
    "mo1 = fruitRegex.search('Abhay and Kumar Aman')\n",
    "mo1.group()"
   ]
  },
  {
   "cell_type": "code",
   "execution_count": 31,
   "id": "c2f8345b",
   "metadata": {},
   "outputs": [
    {
     "data": {
      "text/plain": [
       "'Kumar Aman'"
      ]
     },
     "execution_count": 31,
     "metadata": {},
     "output_type": "execute_result"
    }
   ],
   "source": [
    "mo2 = fruitRegex.search('Kumar Aman and Abhay')\n",
    "mo2.group()"
   ]
  },
  {
   "cell_type": "markdown",
   "id": "881e4aed",
   "metadata": {},
   "source": [
    "## 9. In regular expressions, what does the ? character stand for?\n",
    "### Answer:- "
   ]
  },
  {
   "cell_type": "markdown",
   "id": "6038730c",
   "metadata": {},
   "source": [
    "- The ? character can either mean \"match zero or one of the preceding group\" or be used to signify nongreedy matching.\n",
    "- This character specifies an expression to its left for 0 (Zero) or 1 (one)times.\n",
    "- aS? is an expression which gives either \"a\" or \"as\", but not \"ass\".\n",
    "- Sometimes there is a pattern that you want to match only optionally. That is, the regex should find a match whether or not that bit of text is there. The ? character flags the group that precedes it as an optional part of the pattern. For example, enter the following into the interactive shell:"
   ]
  },
  {
   "cell_type": "code",
   "execution_count": 36,
   "id": "ae69c053",
   "metadata": {},
   "outputs": [
    {
     "data": {
      "text/plain": [
       "'Batman'"
      ]
     },
     "execution_count": 36,
     "metadata": {},
     "output_type": "execute_result"
    }
   ],
   "source": [
    "batRegex = re.compile(r'Bat(wo)?man')\n",
    "mo1 = batRegex.search('The Adventures of Batman')\n",
    "mo1.group()"
   ]
  },
  {
   "cell_type": "code",
   "execution_count": 34,
   "id": "ec064bc6",
   "metadata": {},
   "outputs": [
    {
     "data": {
      "text/plain": [
       "'Batwoman'"
      ]
     },
     "execution_count": 34,
     "metadata": {},
     "output_type": "execute_result"
    }
   ],
   "source": [
    "mo2 = batRegex.search('The Adventures of Batwoman')\n",
    "mo2.group()"
   ]
  },
  {
   "cell_type": "markdown",
   "id": "2b9d3d86",
   "metadata": {},
   "source": [
    "- The (wo)? part of the regular expression means that the pattern wo is an optional group. The regex will match text that has zero instances or one instance of wo in it. This is why the regex matches both 'Batwoman' and 'Batman'."
   ]
  },
  {
   "cell_type": "markdown",
   "id": "cd70c254",
   "metadata": {},
   "source": [
    "## 10.In regular expressions, what is the difference between the + and * characters?\n",
    "### Answer:-"
   ]
  },
  {
   "cell_type": "markdown",
   "id": "bd8ccd48",
   "metadata": {},
   "source": [
    "- This + character specifies an expression to its left for one or more times.\n",
    "\n",
    "- Example:-\n",
    "    - s+ is an expression which gives \"s\", \"ss\", \"sss\", and so on.\n",
    "    \n",
    "- This * character specifies an expression to its left for 0 or more times\n",
    "- the group that precedes the star can occur any number of times in the text. It can be completely absent or repeated over and over again.\"\n",
    "\n",
    "- Example:-\n",
    "    - Br* is an expression which gives \"B\", \"Br\", \"Brr\", \"Brrr\", and so on…"
   ]
  },
  {
   "cell_type": "markdown",
   "id": "53e33385",
   "metadata": {},
   "source": [
    "## 11. What is the difference between {4} and {4,5} in regular expression?\n",
    "### Answer:-"
   ]
  },
  {
   "cell_type": "markdown",
   "id": "e6821bc4",
   "metadata": {},
   "source": [
    "- The {4} matches exactly four times instances of the preceding group. The {4,5} matches between four and five instances\n",
    "\n",
    "-  {4} \n",
    "    - It specifies an expression to its left for only 4 times.\n",
    "    - Example:-\n",
    "    - Mab{4} is an expression which gives the following string which contains 4 b's: \"Mabbbb\"\n",
    "    \n",
    "- {4,6}\n",
    "    - It specifies an expression to its left, at least 4 times but less than 5 times.\n",
    "    - Example:\n",
    "        - Pr{4,5}a is an expression which provides  strings. strings are as follows: \"Prrrrr\" "
   ]
  },
  {
   "cell_type": "markdown",
   "id": "bfb73882",
   "metadata": {},
   "source": [
    "## 12. What do you mean by the \\d, \\w, and \\s shorthand character classes signify in regular expressions?\n",
    "### Answer:-"
   ]
  },
  {
   "cell_type": "markdown",
   "id": "94dc22a5",
   "metadata": {},
   "source": [
    "- The \\d, \\w, and \\s shorthand character classes match a single digit, word, or space character, respectively.\n",
    "- The \\d, stands for single digit, Any numeric digit from 0 to 9\n",
    "- \\w, stands for single word, Any letter, numeric digit, or the underscore character. (Think of this as matching “word” \n",
    "characters.)\n",
    "- \\s stands for single space character, Any space, tab, or newline character. (Think of this as matching “space” \n",
    "characters.)"
   ]
  },
  {
   "cell_type": "markdown",
   "id": "8959ba89",
   "metadata": {},
   "source": [
    "## 13. What do means by \\D, \\W, and \\S shorthand character classes signify in regular expressions?\n",
    "### Abhay:-"
   ]
  },
  {
   "cell_type": "markdown",
   "id": "6ee00d0b",
   "metadata": {},
   "source": [
    "- \\D ------> Any character that is not a numeric digit from 0 to 9.\n",
    "- \\W ------> Any character that is not a letter, numeric digit, or the underscore character.\n",
    "- \\S ------> Any character that is not a space, tab, or newline."
   ]
  },
  {
   "cell_type": "markdown",
   "id": "04349534",
   "metadata": {},
   "source": [
    "## 14. What is the difference between .* ? and .*   ?\n",
    "### Answer:-"
   ]
  },
  {
   "cell_type": "markdown",
   "id": "5e1966fd",
   "metadata": {},
   "source": [
    "- (.*) - Matching Everything with Dot-Star\n",
    "- The dot-star uses greedy mode: It will always try to match as much text as possible.\n",
    "- Sometimes you will want to match everything and anything. For example, say you want to match the string 'First Name:', followed by any and all text, followed by 'Last Name:', and then followed by anything again. You can use the dot-star (.*) to stand in for that “anything.” Remember that the dot character means “any single character except the newline,” and the star character means “zero or more of the preceding character.”\n"
   ]
  },
  {
   "cell_type": "code",
   "execution_count": 40,
   "id": "22559065",
   "metadata": {},
   "outputs": [
    {
     "data": {
      "text/plain": [
       "'Abhay'"
      ]
     },
     "execution_count": 40,
     "metadata": {},
     "output_type": "execute_result"
    }
   ],
   "source": [
    "nameRegex = re.compile(r'First Name: (.*) Last Name: (.*)')\n",
    "mo = nameRegex.search('First Name: Abhay Last Name: Aman')\n",
    "mo.group(1)"
   ]
  },
  {
   "cell_type": "code",
   "execution_count": 41,
   "id": "7bba87d9",
   "metadata": {},
   "outputs": [
    {
     "data": {
      "text/plain": [
       "'Aman'"
      ]
     },
     "execution_count": 41,
     "metadata": {},
     "output_type": "execute_result"
    }
   ],
   "source": [
    "mo.group(2)"
   ]
  },
  {
   "cell_type": "markdown",
   "id": "47205ad7",
   "metadata": {},
   "source": [
    "- (.*?). - To match any and all text in a nongreedy fashion, use the dot, star, and question mark (.*?). Like with curly brackets, the question mark tells Python to match in a nongreedy way."
   ]
  },
  {
   "cell_type": "code",
   "execution_count": 42,
   "id": "cc10ea3d",
   "metadata": {},
   "outputs": [
    {
     "data": {
      "text/plain": [
       "'<To serve man>'"
      ]
     },
     "execution_count": 42,
     "metadata": {},
     "output_type": "execute_result"
    }
   ],
   "source": [
    "nongreedyRegex = re.compile(r'<.*?>')\n",
    "mo = nongreedyRegex.search('<To serve man> for dinner.>')\n",
    "mo.group()"
   ]
  },
  {
   "cell_type": "markdown",
   "id": "29bf688b",
   "metadata": {},
   "source": [
    "## 15. What is the syntax for matching both numbers and lowercase letters with a character class?\n",
    "### Answer:-"
   ]
  },
  {
   "cell_type": "markdown",
   "id": "f26dc393",
   "metadata": {},
   "source": [
    "- Either [0-9a-z] or [a-z0-9]\n"
   ]
  },
  {
   "cell_type": "code",
   "execution_count": 46,
   "id": "f3f90539",
   "metadata": {},
   "outputs": [
    {
     "data": {
      "text/plain": [
       "'3'"
      ]
     },
     "execution_count": 46,
     "metadata": {},
     "output_type": "execute_result"
    }
   ],
   "source": [
    "reg1 = re.compile(r'[0-9a-z]')\n",
    "reg2 = re.compile(r'[a-z0-9]')\n",
    "\n",
    "mo1 = reg1.search('300 assignment are there in ineuron')\n",
    "mo1.group()"
   ]
  },
  {
   "cell_type": "code",
   "execution_count": 47,
   "id": "f9cfa71d",
   "metadata": {},
   "outputs": [
    {
     "data": {
      "text/plain": [
       "'a'"
      ]
     },
     "execution_count": 47,
     "metadata": {},
     "output_type": "execute_result"
    }
   ],
   "source": [
    "reg2 = re.compile(r'[a-z0-9]')\n",
    "\n",
    "mo1 = reg2.search('assignment are there in ineuron')\n",
    "mo1.group()"
   ]
  },
  {
   "cell_type": "markdown",
   "id": "1499a1f6",
   "metadata": {},
   "source": [
    "## 16. What is the procedure for making a normal expression in regax case insensitive?\n",
    "### Answer:-"
   ]
  },
  {
   "cell_type": "markdown",
   "id": "8ffcd86d",
   "metadata": {},
   "source": [
    "- To make your regex case-insensitive, you can pass re.IGNORECASE or re.I as a second argument to re.compile(). "
   ]
  },
  {
   "cell_type": "code",
   "execution_count": 48,
   "id": "d409b1ed",
   "metadata": {},
   "outputs": [
    {
     "data": {
      "text/plain": [
       "'Robocop'"
      ]
     },
     "execution_count": 48,
     "metadata": {},
     "output_type": "execute_result"
    }
   ],
   "source": [
    "robocop = re.compile(r'robocop', re.I)\n",
    "robocop.search('Robocop is part man, part machine, all cop.').group()"
   ]
  },
  {
   "cell_type": "code",
   "execution_count": 49,
   "id": "dc23570e",
   "metadata": {},
   "outputs": [
    {
     "data": {
      "text/plain": [
       "'ROBOCOP'"
      ]
     },
     "execution_count": 49,
     "metadata": {},
     "output_type": "execute_result"
    }
   ],
   "source": [
    "robocop.search('ROBOCOP protects the innocent.').group()"
   ]
  },
  {
   "cell_type": "code",
   "execution_count": 50,
   "id": "80423617",
   "metadata": {},
   "outputs": [
    {
     "data": {
      "text/plain": [
       "'robocop'"
      ]
     },
     "execution_count": 50,
     "metadata": {},
     "output_type": "execute_result"
    }
   ],
   "source": [
    "robocop.search('Al, why does your programming book talk about robocop so much?').group()"
   ]
  },
  {
   "cell_type": "markdown",
   "id": "22876050",
   "metadata": {},
   "source": [
    "## 17. What does the . character normally match? What does it match if re.DOTALL is passed as 2nd argument in re.compile()?\n",
    "### Answer:-"
   ]
  },
  {
   "cell_type": "markdown",
   "id": "7cdb556e",
   "metadata": {},
   "source": [
    "- The . character normally matches any character except the newline character. If re.DOTALL is passed as the second argument to re.compile(), then the dot will also match newline characters.\n",
    "- The . character in a regular expression is called a wildcard and will match any character except for a newline.\n",
    "\n",
    "- The dot-star will match everything except a newline. By passing re.DOTALL as the second argument to re.compile(), you can make the dot character match all characters, including the newline character. For example, newlineRegex = re.compile('.*', re.DOTALL)"
   ]
  },
  {
   "cell_type": "code",
   "execution_count": 51,
   "id": "bd640475",
   "metadata": {},
   "outputs": [],
   "source": [
    " someRegexValue = re.compile('foo', re.IGNORECASE | re.DOTALL)"
   ]
  },
  {
   "cell_type": "code",
   "execution_count": 53,
   "id": "39e54c6b",
   "metadata": {},
   "outputs": [],
   "source": [
    " newlineRegex = re.compile('.*', re.DOTALL)"
   ]
  },
  {
   "cell_type": "markdown",
   "id": "b2ebc174",
   "metadata": {},
   "source": [
    "## 18. If numReg = re.compile(r'\\d+'), what will numRegex.sub('X', '11 drummers, 10 pipers, five rings, 4 hen') return?\n",
    "### Answer:-"
   ]
  },
  {
   "cell_type": "code",
   "execution_count": 55,
   "id": "c7234752",
   "metadata": {},
   "outputs": [
    {
     "data": {
      "text/plain": [
       "'X drummers, X pipers, five rings, X hen'"
      ]
     },
     "execution_count": 55,
     "metadata": {},
     "output_type": "execute_result"
    }
   ],
   "source": [
    "numRegex = re.compile(r'\\d+')\n",
    "om = numRegex.sub('X', '11 drummers, 10 pipers, five rings, 4 hen')\n",
    "om"
   ]
  },
  {
   "cell_type": "markdown",
   "id": "5f3fcecf",
   "metadata": {},
   "source": [
    "## 19. What does passing re.VERBOSE as the 2nd argument to re.compile() allow to do?\n",
    "### Answer:-"
   ]
  },
  {
   "cell_type": "markdown",
   "id": "fbdc05bc",
   "metadata": {},
   "source": [
    "- The re.VERBOSE argument allows you to add whitespace and comments to the string passed to re.compile().\n",
    "- All three options for the second argument will look like this:"
   ]
  },
  {
   "cell_type": "code",
   "execution_count": 56,
   "id": "1923636c",
   "metadata": {},
   "outputs": [],
   "source": [
    "someRegexValue = re.compile('foo', re.IGNORECASE | re.DOTALL | re.VERBOSE)"
   ]
  },
  {
   "cell_type": "markdown",
   "id": "eac5971c",
   "metadata": {},
   "source": [
    "## 20. How would you write a regex that match a number with comma for every three digits? It must match the given following:\n"
   ]
  },
  {
   "cell_type": "raw",
   "id": "6ed18f2a",
   "metadata": {},
   "source": [
    "'42'\n",
    "'1,234'\n",
    "'6,368,745'\n",
    "but not the following:\n",
    "'12,34,567' (which has only two digits between the commas)\n",
    "'1234' (which lacks commas)\n"
   ]
  },
  {
   "cell_type": "markdown",
   "id": "17227fe8",
   "metadata": {},
   "source": [
    "### Answer:-"
   ]
  },
  {
   "cell_type": "markdown",
   "id": "e96bd81f",
   "metadata": {},
   "source": [
    "- re.compile(r'^\\d{1,3}(,\\d{3})*$') will create this regex, but other regex strings can produce a similar regular expression."
   ]
  },
  {
   "cell_type": "code",
   "execution_count": 57,
   "id": "f6b7f53d",
   "metadata": {},
   "outputs": [
    {
     "data": {
      "text/plain": [
       "'6,368,745'"
      ]
     },
     "execution_count": 57,
     "metadata": {},
     "output_type": "execute_result"
    }
   ],
   "source": [
    "reg1 = re.compile(r'^\\d{1,3}(,\\d{3})*$')\n",
    "mo1 = reg1.search('6,368,745')\n",
    "mo1.group()"
   ]
  },
  {
   "cell_type": "code",
   "execution_count": 58,
   "id": "9cef45de",
   "metadata": {},
   "outputs": [
    {
     "data": {
      "text/plain": [
       "'1,234'"
      ]
     },
     "execution_count": 58,
     "metadata": {},
     "output_type": "execute_result"
    }
   ],
   "source": [
    "reg1 = re.compile(r'^\\d{1,3}(,\\d{3})*$')\n",
    "mo1 = reg1.search('1,234')\n",
    "mo1.group()"
   ]
  },
  {
   "cell_type": "code",
   "execution_count": 59,
   "id": "abcc2729",
   "metadata": {},
   "outputs": [
    {
     "data": {
      "text/plain": [
       "'42'"
      ]
     },
     "execution_count": 59,
     "metadata": {},
     "output_type": "execute_result"
    }
   ],
   "source": [
    "reg1 = re.compile(r'^\\d{1,3}(,\\d{3})*$')\n",
    "mo1 = reg1.search('42')\n",
    "mo1.group()"
   ]
  },
  {
   "cell_type": "markdown",
   "id": "47002ced",
   "metadata": {},
   "source": [
    "## 21. How would you write a regex that matches the full name of someone whose last name is Watanabe? You can assume that the first name that comes before it will always be one word that begins with a capital letter. The regex must match the following:\n",
    "\n"
   ]
  },
  {
   "cell_type": "raw",
   "id": "f89b0b49",
   "metadata": {},
   "source": [
    "'Haruto Watanabe'\n",
    "'Alice Watanabe'\n",
    "'RoboCop Watanabe'\n",
    "\n",
    "but not the following:\n",
    "\n",
    "'haruto Watanabe' (where the first name is not capitalized)\n",
    "'Mr. Watanabe' (where the preceding word has a nonletter character)\n",
    "'Watanabe' (which has no first name)\n",
    "'Haruto watanabe' (where Watanabe is not capitalized)"
   ]
  },
  {
   "cell_type": "markdown",
   "id": "3a874020",
   "metadata": {},
   "source": [
    "### Answer:-"
   ]
  },
  {
   "cell_type": "code",
   "execution_count": 61,
   "id": "21e208c5",
   "metadata": {},
   "outputs": [
    {
     "data": {
      "text/plain": [
       "'Alice Watanabe'"
      ]
     },
     "execution_count": 61,
     "metadata": {},
     "output_type": "execute_result"
    }
   ],
   "source": [
    "name = re.compile(r'[A-Z][a-z]*\\sWatanabe')\n",
    "reg1 = re.compile(r'^\\d{1,3}(,\\d{3})*$')\n",
    "mo1 = name.search('Alice Watanabe')\n",
    "mo1.group()"
   ]
  },
  {
   "cell_type": "code",
   "execution_count": 62,
   "id": "21dd6054",
   "metadata": {},
   "outputs": [
    {
     "data": {
      "text/plain": [
       "'Haruto Watanabe'"
      ]
     },
     "execution_count": 62,
     "metadata": {},
     "output_type": "execute_result"
    }
   ],
   "source": [
    "name = re.compile(r'[A-Z][a-z]*\\sWatanabe')\n",
    "reg1 = re.compile(r'^\\d{1,3}(,\\d{haruto Watanabe3})*$')\n",
    "mo1 = name.search('Haruto Watanabe')\n",
    "mo1.group()"
   ]
  },
  {
   "cell_type": "code",
   "execution_count": 63,
   "id": "2f1b8fba",
   "metadata": {},
   "outputs": [
    {
     "data": {
      "text/plain": [
       "'Robocop Watanabe'"
      ]
     },
     "execution_count": 63,
     "metadata": {},
     "output_type": "execute_result"
    }
   ],
   "source": [
    "name = re.compile(r'[A-Z][a-z]*\\sWatanabe')\n",
    "reg1 = re.compile(r'^\\d{1,3}(,\\d{3})*$')\n",
    "mo1 = name.search('Robocop Watanabe')\n",
    "mo1.group()"
   ]
  },
  {
   "cell_type": "markdown",
   "id": "f6766fc2",
   "metadata": {},
   "source": [
    "## 22. How would you write a regex that matches a sentence where the first word is either Alice, Bob, or Carol; the second word is either eats, pets, or throws; the third word is apples, cats, or baseballs; and the sentence ends with a period? This regex should be case-insensitive. It must match the following:\n"
   ]
  },
  {
   "cell_type": "raw",
   "id": "310c39a0",
   "metadata": {},
   "source": [
    "'Alice eats apples.'\n",
    "'Bob pets cats.'\n",
    "'Carol throws baseballs.'\n",
    "'Alice throws Apples.'\n",
    "'BOB EATS CATS.'\n",
    "\n",
    "but not the following:\n",
    "    \n",
    "'RoboCop eats apples.'\n",
    "'ALICE THROWS FOOTBALLS.'\n",
    "'Carol eats 7 cats.'\n"
   ]
  },
  {
   "cell_type": "code",
   "execution_count": 65,
   "id": "139a8b85",
   "metadata": {},
   "outputs": [
    {
     "data": {
      "text/plain": [
       "'Alice eats apples.'"
      ]
     },
     "execution_count": 65,
     "metadata": {},
     "output_type": "execute_result"
    }
   ],
   "source": [
    "name = re.compile(r'(Alice|Bob|Carol)\\s(eats|pets|throws)\\s(apples|cats|baseballs)\\.', re.IGNORECASE)\n",
    "\n",
    "mo1 = name.search('Alice eats apples.')\n",
    "mo1.group()"
   ]
  },
  {
   "cell_type": "code",
   "execution_count": 67,
   "id": "75cbd2ea",
   "metadata": {},
   "outputs": [
    {
     "data": {
      "text/plain": [
       "'Bob pets cats.'"
      ]
     },
     "execution_count": 67,
     "metadata": {},
     "output_type": "execute_result"
    }
   ],
   "source": [
    "name = re.compile(r'(Alice|Bob|Carol)\\s(eats|pets|throws)\\s(apples|cats|baseballs)\\.', re.IGNORECASE)\n",
    "\n",
    "mo1 = name.search('Bob pets cats.')\n",
    "mo1.group()"
   ]
  },
  {
   "cell_type": "code",
   "execution_count": 68,
   "id": "291a6522",
   "metadata": {},
   "outputs": [
    {
     "data": {
      "text/plain": [
       "'Carol throws baseballs.'"
      ]
     },
     "execution_count": 68,
     "metadata": {},
     "output_type": "execute_result"
    }
   ],
   "source": [
    "name = re.compile(r'(Alice|Bob|Carol)\\s(eats|pets|throws)\\s(apples|cats|baseballs)\\.', re.IGNORECASE)\n",
    "\n",
    "mo1 = name.search('Carol throws baseballs.')\n",
    "mo1.group()"
   ]
  },
  {
   "cell_type": "code",
   "execution_count": 69,
   "id": "f58d6135",
   "metadata": {},
   "outputs": [
    {
     "data": {
      "text/plain": [
       "'Alice throws Apples.'"
      ]
     },
     "execution_count": 69,
     "metadata": {},
     "output_type": "execute_result"
    }
   ],
   "source": [
    "name = re.compile(r'(Alice|Bob|Carol)\\s(eats|pets|throws)\\s(apples|cats|baseballs)\\.', re.IGNORECASE)\n",
    "\n",
    "mo1 = name.search('Alice throws Apples.')\n",
    "mo1.group()"
   ]
  },
  {
   "cell_type": "code",
   "execution_count": 70,
   "id": "2dbae5b8",
   "metadata": {},
   "outputs": [
    {
     "data": {
      "text/plain": [
       "'BOB EATS CATS.'"
      ]
     },
     "execution_count": 70,
     "metadata": {},
     "output_type": "execute_result"
    }
   ],
   "source": [
    "name = re.compile(r'(Alice|Bob|Carol)\\s(eats|pets|throws)\\s(apples|cats|baseballs)\\.', re.IGNORECASE)\n",
    "\n",
    "mo1 = name.search('BOB EATS CATS.')\n",
    "mo1.group()"
   ]
  },
  {
   "cell_type": "code",
   "execution_count": null,
   "id": "e78c4600",
   "metadata": {},
   "outputs": [],
   "source": []
  }
 ],
 "metadata": {
  "kernelspec": {
   "display_name": "Python 3 (ipykernel)",
   "language": "python",
   "name": "python3"
  },
  "language_info": {
   "codemirror_mode": {
    "name": "ipython",
    "version": 3
   },
   "file_extension": ".py",
   "mimetype": "text/x-python",
   "name": "python",
   "nbconvert_exporter": "python",
   "pygments_lexer": "ipython3",
   "version": "3.9.7"
  }
 },
 "nbformat": 4,
 "nbformat_minor": 5
}
