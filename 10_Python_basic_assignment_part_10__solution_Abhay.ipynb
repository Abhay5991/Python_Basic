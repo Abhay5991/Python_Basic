{
 "cells": [
  {
   "cell_type": "markdown",
   "id": "0d7b0cc9",
   "metadata": {},
   "source": [
    "# Python_basic_assignment_part_10"
   ]
  },
  {
   "cell_type": "markdown",
   "id": "273ecd79",
   "metadata": {},
   "source": [
    "## 1. How do you distinguish between shutil.copy() and shutil.copytree()?\n",
    "### Answer:-"
   ]
  },
  {
   "cell_type": "markdown",
   "id": "b2feb0ee",
   "metadata": {},
   "source": [
    "- shutil.copy() will copy a single file.\n",
    "\n",
    "- shutil.copytree() will copy an entire folder and every folder and file contained in it. \n",
    "- Calling shutil.copytree(source, destination) will copy the folder at the path source, along with all of its files and subfolders, to the folder at the path destination. The source and destination parameters are both strings. The function returns a string of the path of the copied folder."
   ]
  },
  {
   "cell_type": "markdown",
   "id": "14d96b66",
   "metadata": {},
   "source": [
    "## 2. What function is used to rename files??\n",
    "### Answer:-"
   ]
  },
  {
   "cell_type": "markdown",
   "id": "5ac740ff",
   "metadata": {},
   "source": [
    "- shutil.move() will rename filesas well as moving them."
   ]
  },
  {
   "cell_type": "markdown",
   "id": "4a5597ae",
   "metadata": {},
   "source": [
    "## 3. What is the difference between the delete functions in the send2trash and shutil modules?\n",
    "### Answer:-"
   ]
  },
  {
   "cell_type": "markdown",
   "id": "8ea9ba14",
   "metadata": {},
   "source": [
    "- shutil functions will permanently delete files and folders.\n",
    "\n",
    "- shutil.rmtree() function irreversibly deletes files and folders.\n",
    "\n",
    "- send2trash will send folders and files to computer's trash or recycle bin instead of permanently deleting them."
   ]
  },
  {
   "cell_type": "markdown",
   "id": "c5613f7c",
   "metadata": {},
   "source": [
    "## 4.ZipFile objects have a close() method just like File objects’ close() method. What ZipFile method is equivalent to File objects’ open() method?\n",
    "### Answer:-"
   ]
  },
  {
   "cell_type": "markdown",
   "id": "a65607c5",
   "metadata": {},
   "source": [
    "ZipFile method is equivalant to File objects' open() method. For example,"
   ]
  },
  {
   "cell_type": "code",
   "execution_count": 1,
   "id": "253470d0",
   "metadata": {},
   "outputs": [],
   "source": [
    "import zipfile\n",
    "newZip = zipfile.ZipFile('new.zip', 'w')"
   ]
  },
  {
   "cell_type": "markdown",
   "id": "236a896a",
   "metadata": {},
   "source": [
    "## 5. Create a programme that searches a folder tree for files with a certain file extension (such as .pdf or .jpg). Copy these files from whatever location they are in to a new folder.\n",
    "### Answer:-"
   ]
  },
  {
   "cell_type": "code",
   "execution_count": 8,
   "id": "849db3a2",
   "metadata": {},
   "outputs": [
    {
     "name": "stdout",
     "output_type": "stream",
     "text": [
      "Looking in C:\\Users\\ABHAY\\Assignment_Basic\\randomFolder for files with extensions of .pdf, .jpg\n"
     ]
    }
   ],
   "source": [
    "import os, shutil\n",
    "\n",
    "def selectiveCopy(folder, extensions, destFolder):\n",
    "    folder = os.path.abspath(folder)\n",
    "    destFolder = os.path.abspath(destFolder)\n",
    "    print('Looking in', folder, 'for files with extensions of', ', '.join(extensions))\n",
    "    for foldername, subfolders, filenames in os.walk(folder):\n",
    "        for filename in filenames:\n",
    "            name, extension = os.path.splitext(filename)\n",
    "            if extension in extensions:\n",
    "                fileAbsPath = foldername + os.path.sep + filename\n",
    "                print('Coping', fileAbsPath, 'to', destFolder)\n",
    "                shutil.copy(fileAbsPath, destFolder)\n",
    "\n",
    "extensions = ['.pdf', '.jpg']\n",
    "folder = 'randomFolder'\n",
    "destFolder = 'selectiveFolder'\n",
    "selectiveCopy(folder, extensions, destFolder)"
   ]
  },
  {
   "cell_type": "code",
   "execution_count": null,
   "id": "96174fdd",
   "metadata": {},
   "outputs": [],
   "source": []
  }
 ],
 "metadata": {
  "kernelspec": {
   "display_name": "Python 3 (ipykernel)",
   "language": "python",
   "name": "python3"
  },
  "language_info": {
   "codemirror_mode": {
    "name": "ipython",
    "version": 3
   },
   "file_extension": ".py",
   "mimetype": "text/x-python",
   "name": "python",
   "nbconvert_exporter": "python",
   "pygments_lexer": "ipython3",
   "version": "3.9.7"
  }
 },
 "nbformat": 4,
 "nbformat_minor": 5
}
