{
 "cells": [
  {
   "cell_type": "markdown",
   "id": "fc198640",
   "metadata": {},
   "source": [
    "# Python_basic_assignment_part_10"
   ]
  },
  {
   "cell_type": "markdown",
   "id": "4f1609b2",
   "metadata": {},
   "source": [
    "## 1. How do you distinguish between shutil.copy() and shutil.copytree()?\n",
    "### Answer:-"
   ]
  },
  {
   "cell_type": "markdown",
   "id": "0acb24a7",
   "metadata": {},
   "source": [
    "- shutil.copy() will copy a single file.\n",
    "\n",
    "- shutil.copytree() will copy an entire folder and every folder and file contained in it. \n",
    "- Calling shutil.copytree(source, destination) will copy the folder at the path source, along with all of its files and subfolders, to the folder at the path destination. The source and destination parameters are both strings. The function returns a string of the path of the copied folder."
   ]
  },
  {
   "cell_type": "markdown",
   "id": "21189a8e",
   "metadata": {},
   "source": [
    "## 2. What function is used to rename files??\n",
    "### Answer:-"
   ]
  },
  {
   "cell_type": "raw",
   "id": "a4ad3117",
   "metadata": {},
   "source": [
    "- shutil.move() will rename files."
   ]
  },
  {
   "cell_type": "markdown",
   "id": "11b4e854",
   "metadata": {},
   "source": [
    "## 3. What is the difference between the delete functions in the send2trash and shutil modules?\n",
    "### Answer:-"
   ]
  },
  {
   "cell_type": "raw",
   "id": "026c36ca",
   "metadata": {},
   "source": [
    "- shutil functions will permanently delete files and folders.\n",
    "\n",
    "- shutil.rmtree() function irreversibly deletes files and folders.\n",
    "\n",
    "- send2trash will send folders and files to computer's trash or recycle bin instead of permanently deleting them."
   ]
  },
  {
   "cell_type": "markdown",
   "id": "f62b88a6",
   "metadata": {},
   "source": [
    "## 4.ZipFile objects have a close() method just like File objects’ close() method. What ZipFile method is equivalent to File objects’ open() method?\n",
    "### Answer:-"
   ]
  },
  {
   "cell_type": "raw",
   "id": "1f7d39e6",
   "metadata": {},
   "source": [
    "ZipFile method is equivalant to File objects' open() method. For example,"
   ]
  },
  {
   "cell_type": "code",
   "execution_count": 1,
   "id": "355a96a7",
   "metadata": {},
   "outputs": [],
   "source": [
    "import zipfile\n",
    "newZip = zipfile.ZipFile('new.zip', 'w')"
   ]
  },
  {
   "cell_type": "markdown",
   "id": "d3bc807a",
   "metadata": {},
   "source": [
    "## 5. Create a programme that searches a folder tree for files with a certain file extension (such as .pdf or .jpg). Copy these files from whatever location they are in to a new folder.\n",
    "### Answer:-"
   ]
  },
  {
   "cell_type": "code",
   "execution_count": 8,
   "id": "b60d17c2",
   "metadata": {},
   "outputs": [
    {
     "name": "stdout",
     "output_type": "stream",
     "text": [
      "Looking in C:\\Users\\ABHAY\\Assignment_Basic\\randomFolder for files with extensions of .pdf, .jpg\n"
     ]
    }
   ],
   "source": [
    "import os, shutil\n",
    "\n",
    "def selectiveCopy(folder, extensions, destFolder):\n",
    "    folder = os.path.abspath(folder)\n",
    "    destFolder = os.path.abspath(destFolder)\n",
    "    print('Looking in', folder, 'for files with extensions of', ', '.join(extensions))\n",
    "    for foldername, subfolders, filenames in os.walk(folder):\n",
    "        for filename in filenames:\n",
    "            name, extension = os.path.splitext(filename)\n",
    "            if extension in extensions:\n",
    "                fileAbsPath = foldername + os.path.sep + filename\n",
    "                print('Coping', fileAbsPath, 'to', destFolder)\n",
    "                shutil.copy(fileAbsPath, destFolder)\n",
    "\n",
    "extensions = ['.pdf', '.jpg']\n",
    "folder = 'randomFolder'\n",
    "destFolder = 'selectiveFolder'\n",
    "selectiveCopy(folder, extensions, destFolder)"
   ]
  },
  {
   "cell_type": "code",
   "execution_count": null,
   "id": "75a45de9",
   "metadata": {},
   "outputs": [],
   "source": []
  }
 ],
 "metadata": {
  "kernelspec": {
   "display_name": "Python 3 (ipykernel)",
   "language": "python",
   "name": "python3"
  },
  "language_info": {
   "codemirror_mode": {
    "name": "ipython",
    "version": 3
   },
   "file_extension": ".py",
   "mimetype": "text/x-python",
   "name": "python",
   "nbconvert_exporter": "python",
   "pygments_lexer": "ipython3",
   "version": "3.9.7"
  }
 },
 "nbformat": 4,
 "nbformat_minor": 5
}
