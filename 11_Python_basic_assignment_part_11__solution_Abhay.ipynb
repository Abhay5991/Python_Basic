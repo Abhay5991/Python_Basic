{
 "cells": [
  {
   "cell_type": "markdown",
   "id": "4ca648e1",
   "metadata": {},
   "source": [
    "# Python_basic_assignment_part_11"
   ]
  },
  {
   "cell_type": "markdown",
   "id": "729e6709",
   "metadata": {},
   "source": [
    "## 1. Create an assert statement that throws an AssertionError if the variable spam is a negative integer.\n",
    "### Answer:-"
   ]
  },
  {
   "cell_type": "markdown",
   "id": "d4c5ca68",
   "metadata": {},
   "source": [
    "- In Python, the assert statement is used to continue the execute if the given condition evaluates to True. If the assert condition evaluates to False, then it raises the AssertionError exception with the specified error message."
   ]
  },
  {
   "cell_type": "code",
   "execution_count": 5,
   "id": "705ee4bf",
   "metadata": {},
   "outputs": [
    {
     "name": "stdout",
     "output_type": "stream",
     "text": [
      "x is a positive number.\n"
     ]
    }
   ],
   "source": [
    "x = 10\n",
    "assert x > 0\n",
    "print('x is a positive number.')"
   ]
  },
  {
   "cell_type": "code",
   "execution_count": 9,
   "id": "606af9d7",
   "metadata": {},
   "outputs": [
    {
     "ename": "AssertionError",
     "evalue": "Only positive numbers are allowed",
     "output_type": "error",
     "traceback": [
      "\u001b[1;31m---------------------------------------------------------------------------\u001b[0m",
      "\u001b[1;31mAssertionError\u001b[0m                            Traceback (most recent call last)",
      "\u001b[1;32m~\\AppData\\Local\\Temp/ipykernel_8444/3866923703.py\u001b[0m in \u001b[0;36m<module>\u001b[1;34m\u001b[0m\n\u001b[0;32m      4\u001b[0m \u001b[1;33m\u001b[0m\u001b[0m\n\u001b[0;32m      5\u001b[0m \u001b[0mn\u001b[0m \u001b[1;33m=\u001b[0m \u001b[0msquare\u001b[0m\u001b[1;33m(\u001b[0m\u001b[1;36m2\u001b[0m\u001b[1;33m)\u001b[0m \u001b[1;31m# returns 4\u001b[0m\u001b[1;33m\u001b[0m\u001b[1;33m\u001b[0m\u001b[0m\n\u001b[1;32m----> 6\u001b[1;33m \u001b[0mn\u001b[0m \u001b[1;33m=\u001b[0m \u001b[0msquare\u001b[0m\u001b[1;33m(\u001b[0m\u001b[1;33m-\u001b[0m\u001b[1;36m2\u001b[0m\u001b[1;33m)\u001b[0m \u001b[1;31m# raise an AssertionError\u001b[0m\u001b[1;33m\u001b[0m\u001b[1;33m\u001b[0m\u001b[0m\n\u001b[0m",
      "\u001b[1;32m~\\AppData\\Local\\Temp/ipykernel_8444/3866923703.py\u001b[0m in \u001b[0;36msquare\u001b[1;34m(x)\u001b[0m\n\u001b[0;32m      1\u001b[0m \u001b[1;32mdef\u001b[0m \u001b[0msquare\u001b[0m\u001b[1;33m(\u001b[0m\u001b[0mx\u001b[0m\u001b[1;33m)\u001b[0m\u001b[1;33m:\u001b[0m\u001b[1;33m\u001b[0m\u001b[1;33m\u001b[0m\u001b[0m\n\u001b[1;32m----> 2\u001b[1;33m     \u001b[1;32massert\u001b[0m \u001b[0mx\u001b[0m\u001b[1;33m>=\u001b[0m\u001b[1;36m0\u001b[0m\u001b[1;33m,\u001b[0m \u001b[1;34m'Only positive numbers are allowed'\u001b[0m\u001b[1;33m\u001b[0m\u001b[1;33m\u001b[0m\u001b[0m\n\u001b[0m\u001b[0;32m      3\u001b[0m     \u001b[1;32mreturn\u001b[0m \u001b[0mx\u001b[0m\u001b[1;33m*\u001b[0m\u001b[0mx\u001b[0m\u001b[1;33m\u001b[0m\u001b[1;33m\u001b[0m\u001b[0m\n\u001b[0;32m      4\u001b[0m \u001b[1;33m\u001b[0m\u001b[0m\n\u001b[0;32m      5\u001b[0m \u001b[0mn\u001b[0m \u001b[1;33m=\u001b[0m \u001b[0msquare\u001b[0m\u001b[1;33m(\u001b[0m\u001b[1;36m2\u001b[0m\u001b[1;33m)\u001b[0m \u001b[1;31m# returns 4\u001b[0m\u001b[1;33m\u001b[0m\u001b[1;33m\u001b[0m\u001b[0m\n",
      "\u001b[1;31mAssertionError\u001b[0m: Only positive numbers are allowed"
     ]
    }
   ],
   "source": [
    "def square(x):\n",
    "    assert x>=0, 'Only positive numbers are allowed'\n",
    "    return x*x\n",
    "\n",
    "n = square(2) # returns 4\n",
    "n = square(-2) # raise an AssertionError"
   ]
  },
  {
   "cell_type": "markdown",
   "id": "c07e74a3",
   "metadata": {},
   "source": [
    "## 2. Write an assert statement that triggers an AssertionError if the variables eggs and bacon contain strings that are the same as each other, even if their cases are different (that is, 'hello' and 'hello' are considered the same, and 'goodbye' and 'GOODbye' are also considered the same).\n",
    "### Answer:-"
   ]
  },
  {
   "cell_type": "markdown",
   "id": "bc6f7d64",
   "metadata": {},
   "source": [
    "- assert eggs.lower() != bacon.lower(), 'The eggs and bacon variables contain the same string (case insensitive).'"
   ]
  },
  {
   "cell_type": "code",
   "execution_count": 7,
   "id": "0232764b",
   "metadata": {},
   "outputs": [
    {
     "name": "stdout",
     "output_type": "stream",
     "text": [
      "Only positive numbers are allowed\n"
     ]
    }
   ],
   "source": [
    "def square(x):\n",
    "    assert x>=0, 'Only positive numbers are allowed'\n",
    "    return x*x\n",
    "\n",
    "try:\n",
    "    square(-2)\n",
    "except AssertionError as msg:\n",
    "    print(msg)"
   ]
  },
  {
   "cell_type": "markdown",
   "id": "ae0e93c8",
   "metadata": {},
   "source": [
    "## 3. Create an assert statement that throws an AssertionError every time.\n",
    "### Answer:-"
   ]
  },
  {
   "cell_type": "markdown",
   "id": "19dd120e",
   "metadata": {},
   "source": [
    "- assert False, 'Write an assert statement that always triggers an AssertionError.'\n",
    "\n",
    "- or\n",
    "\n",
    "- assert 1 != 1 , 'Write an assert statement that always triggers an AssertionError.'"
   ]
  },
  {
   "cell_type": "markdown",
   "id": "bef6a5ad",
   "metadata": {},
   "source": [
    "## 4. What are the two lines that must be present in your software in order to call logging.debug()?\n",
    "### Answer:-"
   ]
  },
  {
   "cell_type": "markdown",
   "id": "b24b5f85",
   "metadata": {},
   "source": [
    "- import logging logging.basicConfig(filename='programLog.txt', level=logging.DEBUG, format=' %(asctime)s - %(levelname)s - %(message)s')"
   ]
  },
  {
   "cell_type": "code",
   "execution_count": 10,
   "id": "010bd571",
   "metadata": {},
   "outputs": [],
   "source": [
    "import logging as lg\n",
    "lg.basicConfig(level=lg.DEBUG, format=' %(asctime)s - %(levelname)s - %(message)s')"
   ]
  },
  {
   "cell_type": "markdown",
   "id": "8813b517",
   "metadata": {},
   "source": [
    "## 5. What are the two lines that your program must have in order to have logging.debug() send a logging message to a file named programLog.txt?\n",
    "### Answer:-"
   ]
  },
  {
   "cell_type": "code",
   "execution_count": 11,
   "id": "a90f52c0",
   "metadata": {},
   "outputs": [],
   "source": [
    "import logging as lg\n",
    "lg.basicConfig(filename='programLog.txt', level=lg.DEBUG, format=' %(asctime)s - %(levelname)s - %(message)s')"
   ]
  },
  {
   "cell_type": "markdown",
   "id": "65648472",
   "metadata": {},
   "source": [
    "## 6. What are the five levels of logging?\n",
    "### Answer:-"
   ]
  },
  {
   "cell_type": "markdown",
   "id": "e41e0ffc",
   "metadata": {},
   "source": [
    "- Five level of loggins are DEBUG, INFO, WARNING, ERROR, and CRITICAL\n",
    "- logging.debug() - variable's state and small details\n",
    "- logging.info() - general events, confirm a program is working\n",
    "- logging.warning() - potiental problem to work on in the future\n",
    "- logging.error() - record an error that caused program to fail to do something\n",
    "- logging.critical() - fatal error that has caused"
   ]
  },
  {
   "cell_type": "markdown",
   "id": "5dac24a9",
   "metadata": {},
   "source": [
    "## 7. What line of code would you add to your software to disable all logging messages?\n",
    "### Answer:-"
   ]
  },
  {
   "cell_type": "markdown",
   "id": "08aedd9b",
   "metadata": {},
   "source": [
    "- logging.disable(level) -> Disables all logging calls of severity 'level' and below. \n",
    "- set level = logging.CRITICAL since CRITICAL being the highest level ,so  every other level loggings will be disabled."
   ]
  },
  {
   "cell_type": "code",
   "execution_count": 12,
   "id": "d8587301",
   "metadata": {},
   "outputs": [],
   "source": [
    "import logging as lg\n",
    "lg.disable(lg.CRITICAL)"
   ]
  },
  {
   "cell_type": "markdown",
   "id": "fae95452",
   "metadata": {},
   "source": [
    "## 8.Why is using logging messages better than using print() to display the same message?\n",
    "### Answer:-"
   ]
  },
  {
   "cell_type": "markdown",
   "id": "6f8bf95e",
   "metadata": {},
   "source": [
    "- Once we're done debugging, we'll end up spending a lot of time removing print() calls from our code for each log message. We might even accidentally remove some print() calls that were being used for nonlog messages. The nice thing about log messages is that you're free to fill your program with as many as you like, and you can always disable them later by adding a single logging.disable(logging.CRITICAL) call. Unlike print(), the logging module makes it easy to switch between showing and hiding log messages."
   ]
  },
  {
   "cell_type": "markdown",
   "id": "64d40231",
   "metadata": {},
   "source": [
    "- The only time that print is a better option than logging is when the goal is to display a help statement for a command line application. Other reasons why logging is better than print:\n",
    "\n",
    "- The log record, which is created with every logging event, contains readily available diagnostic information such as the file name, full path, function, and line number of the logging event.\n",
    "- Events logged in included modules are automatically accessible via the root logger to your application’s logging stream, unless you filter them out.\n",
    "- Logging can be selectively silenced by using the method logging.Logger.setLevel() or disabled by setting the attribute - logging.Logger.disabled to True."
   ]
  },
  {
   "cell_type": "markdown",
   "id": "7858f21c",
   "metadata": {},
   "source": [
    "## 9. What are the differences between the Step Over, Step In, and Step Out buttons in the debugger?\n",
    "### Answer:-"
   ]
  },
  {
   "cell_type": "markdown",
   "id": "b89406f8",
   "metadata": {},
   "source": [
    "- Step in: means that if there is a function call, it goes inside the function and you can see how the function is executing line by line till it returns and you go back to the next line right after the function call\n",
    "- Step over: means that if there is a function call, it just executes it like a black box and returns the result, but you cannot see how the function was executed.\n",
    "- Step out: means that if you have Stepped in a function and now you want to skip seeing how the rest of the function is going to execute, you Step out and the function returns. Then, you go back to the next line, that is the line right after the function call."
   ]
  },
  {
   "cell_type": "markdown",
   "id": "8338b81f",
   "metadata": {},
   "source": [
    "- The Step in button will move the debugger into a function call. \n",
    "- The Step Over button will quickly execute the function call without stepping into it. \n",
    "- The Step Out button will quickly execute the rest of the code until it steps out of the function it currently is in."
   ]
  },
  {
   "cell_type": "markdown",
   "id": "d4bcee41",
   "metadata": {},
   "source": [
    "## 10.After you click Continue, when will the debugger stop ?\n",
    "### Answer:-"
   ]
  },
  {
   "cell_type": "markdown",
   "id": "cc28035f",
   "metadata": {},
   "source": [
    "- After you click Continue, the debugger will stop when it has reached the end of the program or a line with a breakpoint.\n",
    "- It will stops at next breakpoint, if there are no further breakpoints program will be fully executed."
   ]
  },
  {
   "cell_type": "markdown",
   "id": "5e86eeb6",
   "metadata": {},
   "source": [
    "## 11. What is the concept of a breakpoint?\n",
    "### Answer:-"
   ]
  },
  {
   "cell_type": "markdown",
   "id": "7bde3dac",
   "metadata": {},
   "source": [
    "- A breakpoint tells the Python interpreter to pause execution at a particular point in our application\n",
    "- A breakpoint can be set on a specific line of code and forces the debugger to pause whenever the program execution reaches that line."
   ]
  }
 ],
 "metadata": {
  "kernelspec": {
   "display_name": "Python 3 (ipykernel)",
   "language": "python",
   "name": "python3"
  },
  "language_info": {
   "codemirror_mode": {
    "name": "ipython",
    "version": 3
   },
   "file_extension": ".py",
   "mimetype": "text/x-python",
   "name": "python",
   "nbconvert_exporter": "python",
   "pygments_lexer": "ipython3",
   "version": "3.9.7"
  }
 },
 "nbformat": 4,
 "nbformat_minor": 5
}
