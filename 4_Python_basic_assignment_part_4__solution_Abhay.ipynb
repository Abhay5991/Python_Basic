{
 "cells": [
  {
   "cell_type": "markdown",
   "id": "d7267cfe",
   "metadata": {},
   "source": [
    "# Assignment_part_4"
   ]
  },
  {
   "cell_type": "markdown",
   "id": "623a159d",
   "metadata": {},
   "source": [
    "## 1. What exactly is []?\n",
    "### Answer:-"
   ]
  },
  {
   "cell_type": "markdown",
   "id": "4fd6e751",
   "metadata": {},
   "source": [
    "- [] is a emplty list, \n",
    "- You can create an empty list with an empty pair of square brackets, like this:  a =[]"
   ]
  },
  {
   "cell_type": "markdown",
   "id": "30fbaf05",
   "metadata": {},
   "source": [
    "## 2. In a list of values stored in a variable called spam, how would you assign the value 'hello' as the third value? (Assume [2, 4, 6, 8, 10] are in spam.)\n",
    "### Answer:- "
   ]
  },
  {
   "cell_type": "code",
   "execution_count": 1,
   "id": "4c21015d",
   "metadata": {},
   "outputs": [
    {
     "data": {
      "text/plain": [
       "[2, 4, 'hello', 8, 10]"
      ]
     },
     "execution_count": 1,
     "metadata": {},
     "output_type": "execute_result"
    }
   ],
   "source": [
    "# 1st method\n",
    "spam = [2, 4, 6, 8, 10]\n",
    "spam[2] = \"hello\"\n",
    "spam"
   ]
  },
  {
   "cell_type": "code",
   "execution_count": 2,
   "id": "099cd3d0",
   "metadata": {},
   "outputs": [
    {
     "data": {
      "text/plain": [
       "[2, 4, 'hello', 6, 8, 10]"
      ]
     },
     "execution_count": 2,
     "metadata": {},
     "output_type": "execute_result"
    }
   ],
   "source": [
    "# 2nd method\n",
    "spam = [2, 4, 6, 8, 10]\n",
    "spam.insert(2,'hello')\n",
    "spam"
   ]
  },
  {
   "cell_type": "markdown",
   "id": "7ea115cc",
   "metadata": {},
   "source": [
    "- Let's pretend the spam includes the list ['a', 'b', 'c', 'd'] for the next three queries"
   ]
  },
  {
   "cell_type": "code",
   "execution_count": 3,
   "id": "d7c91638",
   "metadata": {},
   "outputs": [],
   "source": [
    "spam=['a', 'b', 'c', 'd']"
   ]
  },
  {
   "cell_type": "markdown",
   "id": "0f7ba865",
   "metadata": {},
   "source": [
    "## 3. What is the value of spam[int(int('3' * 2) / 11)]?\n",
    "### Answer:-"
   ]
  },
  {
   "cell_type": "code",
   "execution_count": 4,
   "id": "139c32fa",
   "metadata": {},
   "outputs": [
    {
     "data": {
      "text/plain": [
       "'d'"
      ]
     },
     "execution_count": 4,
     "metadata": {},
     "output_type": "execute_result"
    }
   ],
   "source": [
    "spam=['a', 'b', 'c', 'd']\n",
    "spam[int(int('3' * 2) / 11)]    # spam[int(33/11)] = spam[3]= 'd'"
   ]
  },
  {
   "cell_type": "markdown",
   "id": "c6d899eb",
   "metadata": {},
   "source": [
    "## 4. What is the value of spam[-1]?\n",
    "### Answer:- "
   ]
  },
  {
   "cell_type": "code",
   "execution_count": 5,
   "id": "48056d08",
   "metadata": {},
   "outputs": [
    {
     "data": {
      "text/plain": [
       "'d'"
      ]
     },
     "execution_count": 5,
     "metadata": {},
     "output_type": "execute_result"
    }
   ],
   "source": [
    "spam[-1]"
   ]
  },
  {
   "cell_type": "markdown",
   "id": "3157e425",
   "metadata": {},
   "source": [
    "## 5. What is the value of spam[:2]?\n",
    "### Answer:-"
   ]
  },
  {
   "cell_type": "code",
   "execution_count": 6,
   "id": "a17f411e",
   "metadata": {},
   "outputs": [
    {
     "data": {
      "text/plain": [
       "['a', 'b']"
      ]
     },
     "execution_count": 6,
     "metadata": {},
     "output_type": "execute_result"
    }
   ],
   "source": [
    "spam[:2]"
   ]
  },
  {
   "cell_type": "markdown",
   "id": "0162e2a0",
   "metadata": {},
   "source": [
    "- Let's pretend bacon has the list [3.14, 'cat,' 11, 'cat,' True] for the next three questions."
   ]
  },
  {
   "cell_type": "code",
   "execution_count": 15,
   "id": "e1bcbe78",
   "metadata": {},
   "outputs": [],
   "source": [
    "bacon = [3.14, 'cat', 11, 'cat', True] "
   ]
  },
  {
   "cell_type": "markdown",
   "id": "158150e4",
   "metadata": {},
   "source": [
    "## 6. What is the value of bacon.index('cat')?\n",
    "### Answer:-"
   ]
  },
  {
   "cell_type": "code",
   "execution_count": 14,
   "id": "78c65b6e",
   "metadata": {},
   "outputs": [
    {
     "data": {
      "text/plain": [
       "1"
      ]
     },
     "execution_count": 14,
     "metadata": {},
     "output_type": "execute_result"
    }
   ],
   "source": [
    "bacon = [3.14, 'cat', 11,'cat', True] \n",
    "bacon.index('cat')   # it returns the index of first occurrence of 'cat'"
   ]
  },
  {
   "cell_type": "markdown",
   "id": "74fdb281",
   "metadata": {},
   "source": [
    "## 7. How does bacon.append(99) change the look of the list value in bacon?\n",
    "### Answer:-"
   ]
  },
  {
   "cell_type": "code",
   "execution_count": 16,
   "id": "a5129f2d",
   "metadata": {},
   "outputs": [],
   "source": [
    "bacon.append(99) # append item at the end of the list"
   ]
  },
  {
   "cell_type": "code",
   "execution_count": 17,
   "id": "6ac01703",
   "metadata": {},
   "outputs": [
    {
     "data": {
      "text/plain": [
       "[3.14, 'cat', 11, 'cat', True, 99]"
      ]
     },
     "execution_count": 17,
     "metadata": {},
     "output_type": "execute_result"
    }
   ],
   "source": [
    "bacon"
   ]
  },
  {
   "cell_type": "markdown",
   "id": "4b332423",
   "metadata": {},
   "source": [
    "## 8. How does bacon.remove('cat') change the look of the list in bacon?\n",
    "### Answer:-"
   ]
  },
  {
   "cell_type": "code",
   "execution_count": 18,
   "id": "e3ff0233",
   "metadata": {},
   "outputs": [],
   "source": [
    "bacon.remove('cat')   # remove first occurrence of item"
   ]
  },
  {
   "cell_type": "code",
   "execution_count": 19,
   "id": "1f1a6101",
   "metadata": {},
   "outputs": [
    {
     "data": {
      "text/plain": [
       "[3.14, 11, 'cat', True, 99]"
      ]
     },
     "execution_count": 19,
     "metadata": {},
     "output_type": "execute_result"
    }
   ],
   "source": [
    "bacon"
   ]
  },
  {
   "cell_type": "markdown",
   "id": "f60684c2",
   "metadata": {},
   "source": [
    "## 9. What are the list concatenation and list replication operators?\n",
    "### Answer:-"
   ]
  },
  {
   "cell_type": "markdown",
   "id": "ebab4169",
   "metadata": {},
   "source": [
    "- Concatenation Operator(+):\n",
    "    - Concatenation is done by + operator. Concatenation is supported by sequence data types(string, list, tuple). Concatenation is done between the same data types only.\n",
    "- Replication Operator (*) :\n",
    "    - a Replication operator *  will make multiple copies of that particular object and combines them together."
   ]
  },
  {
   "cell_type": "code",
   "execution_count": 21,
   "id": "e6e1a321",
   "metadata": {},
   "outputs": [
    {
     "data": {
      "text/plain": [
       "[1, 2, 3, 4, 5, 6]"
      ]
     },
     "execution_count": 21,
     "metadata": {},
     "output_type": "execute_result"
    }
   ],
   "source": [
    "a = [1, 2, 3] \n",
    "b = [4, 5, 6]\n",
    "a + b   # list concatination"
   ]
  },
  {
   "cell_type": "code",
   "execution_count": 23,
   "id": "e351c413",
   "metadata": {},
   "outputs": [
    {
     "name": "stdout",
     "output_type": "stream",
     "text": [
      "AbhayAbhayAbhay\n"
     ]
    }
   ],
   "source": [
    "l1=\"Abhay\"\n",
    "print (l1*3)   # list replication"
   ]
  },
  {
   "cell_type": "markdown",
   "id": "7fcdcaf0",
   "metadata": {},
   "source": [
    "## 10. What is difference between the list methods append() and insert()?\n",
    "### Answer:-"
   ]
  },
  {
   "cell_type": "markdown",
   "id": "585d4d82",
   "metadata": {},
   "source": [
    "- Insert() command insert the data at given index number while append() command insert the data at the end of the list."
   ]
  },
  {
   "cell_type": "code",
   "execution_count": 24,
   "id": "5d984520",
   "metadata": {},
   "outputs": [
    {
     "data": {
      "text/plain": [
       "[2, 4, 'hello', 6, 8, 10]"
      ]
     },
     "execution_count": 24,
     "metadata": {},
     "output_type": "execute_result"
    }
   ],
   "source": [
    "# solution by inserting value in 3rd index\n",
    "spam = [2, 4, 6, 8, 10]\n",
    "spam.insert(2,'hello')\n",
    "spam"
   ]
  },
  {
   "cell_type": "code",
   "execution_count": 25,
   "id": "a4171a93",
   "metadata": {},
   "outputs": [
    {
     "data": {
      "text/plain": [
       "[3.14, 'cat', 11, 'cat', True, 99]"
      ]
     },
     "execution_count": 25,
     "metadata": {},
     "output_type": "execute_result"
    }
   ],
   "source": [
    "bacon = [3.14, 'cat', 11, 'cat', True]\n",
    "bacon.append(99) # append item at the end of the list\n",
    "bacon"
   ]
  },
  {
   "cell_type": "markdown",
   "id": "4abedf25",
   "metadata": {},
   "source": [
    "## 11. What are the two methods for removing items from a list?\n",
    "### Answer:-"
   ]
  },
  {
   "cell_type": "markdown",
   "id": "b673da57",
   "metadata": {},
   "source": [
    "- Python remove() method:\n",
    "    - It helps to remove the given very first element matching from the list.\n",
    "- Python pop() method:\n",
    "    - The pop() method removes an element from the list based on the index given."
   ]
  },
  {
   "cell_type": "code",
   "execution_count": 26,
   "id": "e2fe6a8e",
   "metadata": {},
   "outputs": [],
   "source": [
    "bacon = [3.14, 'cat', 11, 'cat', True]\n",
    "bacon.remove('cat')"
   ]
  },
  {
   "cell_type": "code",
   "execution_count": 27,
   "id": "02edda70",
   "metadata": {},
   "outputs": [
    {
     "data": {
      "text/plain": [
       "[3.14, 11, 'cat', True]"
      ]
     },
     "execution_count": 27,
     "metadata": {},
     "output_type": "execute_result"
    }
   ],
   "source": [
    "bacon"
   ]
  },
  {
   "cell_type": "code",
   "execution_count": 28,
   "id": "d8d2d015",
   "metadata": {},
   "outputs": [
    {
     "data": {
      "text/plain": [
       "11"
      ]
     },
     "execution_count": 28,
     "metadata": {},
     "output_type": "execute_result"
    }
   ],
   "source": [
    "bacon.pop(1)"
   ]
  },
  {
   "cell_type": "code",
   "execution_count": 29,
   "id": "4e3115bf",
   "metadata": {},
   "outputs": [
    {
     "data": {
      "text/plain": [
       "[3.14, 'cat', True]"
      ]
     },
     "execution_count": 29,
     "metadata": {},
     "output_type": "execute_result"
    }
   ],
   "source": [
    "bacon"
   ]
  },
  {
   "cell_type": "markdown",
   "id": "328c9de4",
   "metadata": {},
   "source": [
    "## 12. Describe how list values and string values are identical.\n",
    "### Answer:-"
   ]
  },
  {
   "cell_type": "markdown",
   "id": "0abc5fe3",
   "metadata": {},
   "source": [
    "- The sequence types share a common set of operations.\n",
    "    - Indexing\n",
    "    - Length\n",
    "    - enumerate\n",
    "    - Slices\n",
    "    - The in operator\n",
    "- Both lists and strings can be passed to len()\n",
    "- Have indexes and slices\n",
    "- Can be used in for loops\n",
    "- Can be concatenated or replicated\n",
    "- Can be used with the in and not in operators"
   ]
  },
  {
   "cell_type": "markdown",
   "id": "3044849a",
   "metadata": {},
   "source": [
    "## 13. What's the difference between tuples and lists?\n",
    "### Answer:-"
   ]
  },
  {
   "cell_type": "markdown",
   "id": "b03e5bcd",
   "metadata": {},
   "source": [
    "- LIST :- List is a container to contain different types of objects and is used to iterate objects.\n",
    "    - Lists are mutable\n",
    "    - Implication of iterations is Time-consuming\n",
    "    - The list is better for performing operations, such as insertion and deletion.\n",
    "    - Lists consume more memory\n",
    "    - Lists have several built-in methods\n",
    "    - The unexpected changes and errors are more likely to occur\n",
    "- TUPLE :-Tuple is also similar to list but contains immutable objects. Tuple processing is faster than List.\n",
    "    - Tuples are immutable\n",
    "    - The implication of iterations is comparatively Faster\n",
    "    - Tuple data type is appropriate for accessing the elements\n",
    "    - Tuple consume less memory as compared to the list\n",
    "    - Tuple does not have many built-in methods.\n",
    "    - In tuple, it is hard to take place."
   ]
  },
  {
   "cell_type": "code",
   "execution_count": 30,
   "id": "6a38739e",
   "metadata": {},
   "outputs": [],
   "source": [
    "list = ['a', 'b', 'c', 'd', 'e']"
   ]
  },
  {
   "cell_type": "code",
   "execution_count": 31,
   "id": "367c516b",
   "metadata": {},
   "outputs": [],
   "source": [
    "tuples = ('a', 'b', 'c', 'd', 'e')"
   ]
  },
  {
   "cell_type": "markdown",
   "id": "d8818105",
   "metadata": {},
   "source": [
    "## 14. How do you type a tuple value that only contains the integer 42?\n",
    "### Answer:-"
   ]
  },
  {
   "cell_type": "code",
   "execution_count": 35,
   "id": "9bad6061",
   "metadata": {},
   "outputs": [
    {
     "data": {
      "text/plain": [
       "(42,)"
      ]
     },
     "execution_count": 35,
     "metadata": {},
     "output_type": "execute_result"
    }
   ],
   "source": [
    "tuple = (42,)\n",
    "tuple"
   ]
  },
  {
   "cell_type": "code",
   "execution_count": 36,
   "id": "ee33290d",
   "metadata": {},
   "outputs": [
    {
     "data": {
      "text/plain": [
       "tuple"
      ]
     },
     "execution_count": 36,
     "metadata": {},
     "output_type": "execute_result"
    }
   ],
   "source": [
    "type(tuple)"
   ]
  },
  {
   "cell_type": "markdown",
   "id": "9786c1d1",
   "metadata": {},
   "source": [
    "## 15. How do you get a list value's tuple form? How do you get a tuple value's list form?\n",
    "### Answer:-"
   ]
  },
  {
   "cell_type": "markdown",
   "id": "535571e9",
   "metadata": {},
   "source": [
    "- By using tuple() and list() functions"
   ]
  },
  {
   "cell_type": "code",
   "execution_count": 11,
   "id": "d7935724",
   "metadata": {},
   "outputs": [
    {
     "data": {
      "text/plain": [
       "(1, 3)"
      ]
     },
     "execution_count": 11,
     "metadata": {},
     "output_type": "execute_result"
    }
   ],
   "source": [
    "l2 = [1,3]\n",
    "l = tuple(l2)\n",
    "l"
   ]
  },
  {
   "cell_type": "code",
   "execution_count": 12,
   "id": "82e6cf0d",
   "metadata": {},
   "outputs": [
    {
     "data": {
      "text/plain": [
       "[4, 6]"
      ]
     },
     "execution_count": 12,
     "metadata": {},
     "output_type": "execute_result"
    }
   ],
   "source": [
    "t2 = (4,6)\n",
    "t = list(t2)\n",
    "t"
   ]
  },
  {
   "cell_type": "markdown",
   "id": "bc1536d0",
   "metadata": {},
   "source": [
    "## 16. Variables that \"contain\" list values are not necessarily lists themselves. Instead, what do they contain?\n",
    "### Answer:"
   ]
  },
  {
   "cell_type": "markdown",
   "id": "b35d6fb1",
   "metadata": {},
   "source": [
    "-  The term list value refers to the list itself (which is a value that can be stored in a variable or passed to a function like any other value), not the values inside the list value.They contain references to list values. A list value looks like this: ['cat', 'bat', 'rat', 'elephant']"
   ]
  },
  {
   "cell_type": "markdown",
   "id": "c04c9160",
   "metadata": {},
   "source": [
    "## 17. How do you distinguish between copy.copy() and copy.deepcopy()?\n",
    "### Answer:-"
   ]
  },
  {
   "cell_type": "markdown",
   "id": "aa316f10",
   "metadata": {},
   "source": [
    "- copy performs shallow copy while deepcopy performs deep copy. \n",
    "- copy and deepcopy behave exactly the same if the object you are copying is not a compound object i.e. the object does not contain other objects. One simple of compound object is list"
   ]
  },
  {
   "cell_type": "code",
   "execution_count": 13,
   "id": "7d1c9ef8",
   "metadata": {},
   "outputs": [
    {
     "name": "stdout",
     "output_type": "stream",
     "text": [
      "2720132025280 2720132025280\n"
     ]
    }
   ],
   "source": [
    "a = [1, 2, [3, 4]]\n",
    "b = a\n",
    "print(id(a), id(b))"
   ]
  },
  {
   "cell_type": "markdown",
   "id": "8325091d",
   "metadata": {},
   "source": [
    "- Lets use copy function to copy a and assign it to b."
   ]
  },
  {
   "cell_type": "code",
   "execution_count": 14,
   "id": "47e9f03d",
   "metadata": {},
   "outputs": [
    {
     "name": "stdout",
     "output_type": "stream",
     "text": [
      "2720132025280 2720132871232\n"
     ]
    }
   ],
   "source": [
    "import copy\n",
    "\n",
    "b = copy.copy(a)\n",
    "print(id(a), id(b))"
   ]
  },
  {
   "cell_type": "markdown",
   "id": "237e84f0",
   "metadata": {},
   "source": [
    "- This time the numbers are different. This means a and b are different objects but what about the objects contained in those lists?"
   ]
  },
  {
   "cell_type": "code",
   "execution_count": 15,
   "id": "8101ec80",
   "metadata": {},
   "outputs": [
    {
     "name": "stdout",
     "output_type": "stream",
     "text": [
      "2720051915056 2720051915056\n"
     ]
    }
   ],
   "source": [
    "print(id(a[0]), id(b[0]))"
   ]
  },
  {
   "cell_type": "markdown",
   "id": "08007fa7",
   "metadata": {},
   "source": [
    "- They return the same number. That means they are the same object. Since they are same object changing the value in one place should modify another right?"
   ]
  }
 ],
 "metadata": {
  "kernelspec": {
   "display_name": "Python 3 (ipykernel)",
   "language": "python",
   "name": "python3"
  },
  "language_info": {
   "codemirror_mode": {
    "name": "ipython",
    "version": 3
   },
   "file_extension": ".py",
   "mimetype": "text/x-python",
   "name": "python",
   "nbconvert_exporter": "python",
   "pygments_lexer": "ipython3",
   "version": "3.9.7"
  }
 },
 "nbformat": 4,
 "nbformat_minor": 5
}
