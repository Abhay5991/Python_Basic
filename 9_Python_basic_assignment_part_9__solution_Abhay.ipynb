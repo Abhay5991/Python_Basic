{
 "cells": [
  {
   "cell_type": "markdown",
   "id": "82f8efad",
   "metadata": {},
   "source": [
    "# Python_basic_assignment_part_9"
   ]
  },
  {
   "cell_type": "markdown",
   "id": "7e38b38a",
   "metadata": {},
   "source": [
    "## 1. To what does a relative path refer?\n",
    "### Answer:-"
   ]
  },
  {
   "cell_type": "markdown",
   "id": "6a985823",
   "metadata": {},
   "source": [
    "- A relative path refers to a location that is relative to a current directory. Relative paths make use of two special symbols, a dot (.) and a double-dot (..), which translate into the current directory and the parent directory. Double dots are used for moving up in the hierarchy. A single dot represents the current directory itself."
   ]
  },
  {
   "cell_type": "code",
   "execution_count": 11,
   "id": "6b5dd437",
   "metadata": {},
   "outputs": [
    {
     "data": {
      "text/plain": [
       "'C:\\\\Users\\\\ABHAY\\\\Assignment_Basic'"
      ]
     },
     "execution_count": 11,
     "metadata": {},
     "output_type": "execute_result"
    }
   ],
   "source": [
    "pwd"
   ]
  },
  {
   "cell_type": "markdown",
   "id": "40ee3cd7",
   "metadata": {},
   "source": [
    "## 2. What does an absolute path start with your operating system?\n",
    "### Answer:-"
   ]
  },
  {
   "cell_type": "markdown",
   "id": "5222dbab",
   "metadata": {},
   "source": [
    "- An absolute, or full, path begins with a drive letter followed by a colon, such as D:\n",
    "- An absolute path refers to the complete details needed to locate a file or folder, starting from the root element and ending with the other subdirectories. Absolute paths are used in websites and operating systems for locating files and folders. An absolute path is also known as an absolute pathname or full path."
   ]
  },
  {
   "cell_type": "markdown",
   "id": "7329ccfe",
   "metadata": {},
   "source": [
    "## 3. What do the functions os.getcwd() and os.chdir() do?\n",
    "### Answer:-"
   ]
  },
  {
   "cell_type": "markdown",
   "id": "68863719",
   "metadata": {},
   "source": [
    "- os.getcwd() method tells us the location of current working directory (CWD).\n",
    "- os.chdir() method in Python used to change the current working directory to specified path. It takes only a single argument as new directory path."
   ]
  },
  {
   "cell_type": "code",
   "execution_count": 8,
   "id": "01254ae1",
   "metadata": {},
   "outputs": [
    {
     "name": "stdout",
     "output_type": "stream",
     "text": [
      "Current working directory: C:\\Users\\ABHAY\\Assignment_Basic\n"
     ]
    }
   ],
   "source": [
    "# Python program to explain os.getcwd() method \n",
    "        \n",
    "# importing os module \n",
    "import os \n",
    "    \n",
    "# Get the current working \n",
    "# directory (CWD) \n",
    "cwd = os.getcwd() \n",
    "    \n",
    "# Print the current working  \n",
    "# directory (CWD) \n",
    "print(\"Current working directory:\", cwd) "
   ]
  },
  {
   "cell_type": "markdown",
   "id": "18dd10b8",
   "metadata": {},
   "source": [
    "## 4. What are the . and .. folders?\n",
    "### Answer:-"
   ]
  },
  {
   "cell_type": "markdown",
   "id": "117071b0",
   "metadata": {},
   "source": [
    "-  a dot (.) and a double-dot (..), which translate into the current directory and the parent directory. Double dots are used for moving up in the hierarchy. A single dot represents the current directory itself."
   ]
  },
  {
   "cell_type": "markdown",
   "id": "440eecc7",
   "metadata": {},
   "source": [
    "## 5. In C:\\bacon\\eggs\\spam.txt, which part is the dir name, and which part is the base name?\n",
    "### Answer:-"
   ]
  },
  {
   "cell_type": "markdown",
   "id": "372091bd",
   "metadata": {},
   "source": [
    "- C:\\bacon\\eggs is the dir name, while spam.txt is the base name."
   ]
  },
  {
   "cell_type": "markdown",
   "id": "775a452c",
   "metadata": {},
   "source": [
    "## 6. What are the three “mode” arguments that can be passed to the open() function?\n",
    "### Answer:-"
   ]
  },
  {
   "cell_type": "markdown",
   "id": "355acb93",
   "metadata": {},
   "source": [
    "- The string 'r' for read mode, 'w' for write mode, and 'a' for append mod\n",
    "- Read mode: open('test.txt', 'r')\n",
    "- Write mode: open('test.txt', 'w')\n",
    "- Append mode: open('test.txt', 'a')."
   ]
  },
  {
   "cell_type": "raw",
   "id": "ec418fd6",
   "metadata": {},
   "source": [
    "f = open(\"test.txt\")        # Equivalent to rt or race\n",
    "f = open(\"test.txt\", 'w')   # Write in text mode\n",
    "f = open(\"test.bmp\", 'r+b') # Read/write in binary mode\n",
    "f = open(\"test.txt\", 'a')   # Append mode"
   ]
  },
  {
   "cell_type": "markdown",
   "id": "85370d56",
   "metadata": {},
   "source": [
    "## 7. What happens if an existing file is opened in write mode?\n",
    "### Answer:-"
   ]
  },
  {
   "cell_type": "markdown",
   "id": "689ea31b",
   "metadata": {},
   "source": [
    "- It will overwrite the existing file and start from scratch, just like when you overwrite a variable's value with a new value.\n"
   ]
  },
  {
   "cell_type": "markdown",
   "id": "17f079bd",
   "metadata": {},
   "source": [
    "## 8. How do you tell the difference between read() and readlines()?\n",
    "### Answer:-"
   ]
  },
  {
   "cell_type": "raw",
   "id": "19b06d40",
   "metadata": {},
   "source": [
    "- read() method returns the contents of a file as a single large string value.\n",
    "\n",
    "- readline() method get a list of string values from the file, one string for each line of text.\n",
    "\n",
    "- The readlines() method returns a list of strings, where each string is a line from the file’s contents."
   ]
  },
  {
   "cell_type": "markdown",
   "id": "c4fe46ea",
   "metadata": {},
   "source": [
    "## 9. What data structure does a shelf value resemble?\n",
    "### Answer:-"
   ]
  },
  {
   "cell_type": "markdown",
   "id": "31eec527",
   "metadata": {},
   "source": [
    "- A shelf value resemble dictionary data structure.\n",
    "- A shelf value resembles a dictionary value; it has keys and values, along with keys() and values() methods that work similarly to the dictionary methods of the same names."
   ]
  }
 ],
 "metadata": {
  "kernelspec": {
   "display_name": "Python 3 (ipykernel)",
   "language": "python",
   "name": "python3"
  },
  "language_info": {
   "codemirror_mode": {
    "name": "ipython",
    "version": 3
   },
   "file_extension": ".py",
   "mimetype": "text/x-python",
   "name": "python",
   "nbconvert_exporter": "python",
   "pygments_lexer": "ipython3",
   "version": "3.9.7"
  }
 },
 "nbformat": 4,
 "nbformat_minor": 5
}
