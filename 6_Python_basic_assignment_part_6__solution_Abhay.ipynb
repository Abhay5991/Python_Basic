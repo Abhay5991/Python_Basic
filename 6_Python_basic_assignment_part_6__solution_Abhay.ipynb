{
 "cells": [
  {
   "cell_type": "markdown",
   "id": "ec2a2eb5",
   "metadata": {},
   "source": [
    "# Python_basic_assignment_part_6"
   ]
  },
  {
   "cell_type": "markdown",
   "id": "0a49bf03",
   "metadata": {},
   "source": [
    "## 1. What are escape characters, and how do you use them?\n",
    "### Answer:-"
   ]
  },
  {
   "cell_type": "raw",
   "id": "c4afd024",
   "metadata": {},
   "source": [
    "- Escape characters stop the compiler from accepting part of a string as a command or input.\n",
    "- An escape character lets you use characters that are otherwise impossible to put into a string.\n",
    "- An escape character consists of a backslash (\\) followed by the character you want to add to the string.\n",
    "\n",
    "- There are several different different escape characters.\n",
    "Code\t  Result\n",
    "\\'\t  Single Quote\t\n",
    "\\\\\t  Backslash\t\n",
    "\\n\t  New Line\t\n",
    "\\r \t  Carriage Return\t\n",
    "\\t\t  Tab\t\n",
    "\\b\t  Backspace\t\n",
    "\\f\t  Form Feed\t\n",
    "\\ooo  Octal value\t\n",
    "\\xhh  Hex value"
   ]
  },
  {
   "cell_type": "code",
   "execution_count": 6,
   "id": "2a935c76",
   "metadata": {},
   "outputs": [
    {
     "name": "stdout",
     "output_type": "stream",
     "text": [
      "This is Abhay's house\n",
      "He told me, \"Go home\", which I did\n",
      "\tThis is good\n",
      " Number 1 \n",
      " Number 2 \n",
      " Number 3\n",
      "Hello\n",
      "Hello\n",
      "This will insert one \\ (backslash).\n",
      "World!\n",
      "Hello \bWorld!\n"
     ]
    }
   ],
   "source": [
    "#Single quote escape character\n",
    "print('This is Abhay\\'s house')\n",
    "#This is Michael's house\n",
    "\n",
    "#Double quote escape character\n",
    "print(\"He told me, \\\"Go home\\\", which I did\")\n",
    "#He told me, \"Go home\", which I did\n",
    "\n",
    "#Tab escape character\n",
    "print('\\tThis is good')\n",
    "#This is good\n",
    "\n",
    "#newline (line break) escape character\n",
    "print(' Number 1 \\n Number 2 \\n Number 3')\n",
    "#Number 1 \n",
    "#Number 2 \n",
    "#Number 3\n",
    "\n",
    "#A backslash followed by three integers will result in a octal value:\n",
    "txt = \"\\110\\145\\154\\154\\157\"\n",
    "print(txt) \n",
    "\n",
    "#A backslash followed by an 'x' and a hex number represents a hex value:\n",
    "txt = \"\\x48\\x65\\x6c\\x6c\\x6f\"\n",
    "print(txt) \n",
    "\n",
    "#Backslash\n",
    "txt = \"This will insert one \\\\ (backslash).\"\n",
    "print(txt) \n",
    "\n",
    "#Carriage Return\n",
    "txt = \"Hello\\rWorld!\"\n",
    "print(txt) \n",
    "\n",
    "#This example erases one character (backspace):\n",
    "txt = \"Hello \\bWorld!\"\n",
    "print(txt) "
   ]
  },
  {
   "cell_type": "markdown",
   "id": "1ce28f5e",
   "metadata": {},
   "source": [
    "## 2. What do the escape characters n and t stand for?\n",
    "### Answer:- "
   ]
  },
  {
   "cell_type": "markdown",
   "id": "b9ac8ee1",
   "metadata": {},
   "source": [
    "- \"\\n\" is a newline\n",
    "- \\t\" is a tab"
   ]
  },
  {
   "cell_type": "markdown",
   "id": "3fcdd441",
   "metadata": {},
   "source": [
    "## 3. What is the way to include backslash characters in a string?\n",
    "### Answer:-"
   ]
  },
  {
   "cell_type": "code",
   "execution_count": 7,
   "id": "33be5525",
   "metadata": {},
   "outputs": [
    {
     "name": "stdout",
     "output_type": "stream",
     "text": [
      "This will insert one \\ (backslash).\n"
     ]
    }
   ],
   "source": [
    "#Backslash\n",
    "txt = \"This will insert one \\\\ (backslash).\"\n",
    "print(txt) "
   ]
  },
  {
   "cell_type": "markdown",
   "id": "3830791e",
   "metadata": {},
   "source": [
    "## 4. The string \"Howl's Moving Castle\" is a correct value. Why isn't the single quote character in the word Howl's not escaped a problem?\n",
    "### Answer:-"
   ]
  },
  {
   "cell_type": "markdown",
   "id": "323d5083",
   "metadata": {},
   "source": [
    "- if we use single quotes in between double quotes then it  is fine Because the whole string is encapsulated by quotes"
   ]
  },
  {
   "cell_type": "code",
   "execution_count": 8,
   "id": "f97682e3",
   "metadata": {},
   "outputs": [
    {
     "data": {
      "text/plain": [
       "\"Howl's Moving Castle\""
      ]
     },
     "execution_count": 8,
     "metadata": {},
     "output_type": "execute_result"
    }
   ],
   "source": [
    "\"Howl's Moving Castle\""
   ]
  },
  {
   "cell_type": "markdown",
   "id": "7573eca6",
   "metadata": {},
   "source": [
    "## 5. How do you write a string of newlines if you don't want to use the n character?\n",
    "### Answer:-"
   ]
  },
  {
   "cell_type": "markdown",
   "id": "db09f6f3",
   "metadata": {},
   "source": [
    "- Using \"multi-line\" Strings\n",
    "- Another way to insert a new line between strings in Python is by using multi-line strings. These strings are denoted using triple quotes (\"\"\") or (''')."
   ]
  },
  {
   "cell_type": "code",
   "execution_count": 34,
   "id": "14d967ac",
   "metadata": {},
   "outputs": [
    {
     "name": "stdout",
     "output_type": "stream",
     "text": [
      "Hello\n",
      "This is\n",
      "one-neuron\n",
      "for,\n",
      "Tech students.\n"
     ]
    }
   ],
   "source": [
    "# Python program to insert new line in string\n",
    "\n",
    "mystring = \"\"\"Hello\n",
    "This is\n",
    "one-neuron\n",
    "for,\n",
    "Tech students.\"\"\"\n",
    "\n",
    "# Print string\n",
    "print(mystring)"
   ]
  },
  {
   "cell_type": "markdown",
   "id": "055f57d6",
   "metadata": {},
   "source": [
    "- Platform Independent Line Breaker\n",
    "- There is yet another way to insert a new line – by using a platform-independent line breaker. This is achieved by using the newline character in Python’s os package called linesep. The os.linesep is used for separating lines on that particular platform such as Windows or Linux."
   ]
  },
  {
   "cell_type": "code",
   "execution_count": 33,
   "id": "553712af",
   "metadata": {},
   "outputs": [
    {
     "name": "stdout",
     "output_type": "stream",
     "text": [
      "Abhay\r\n",
      "Smart Student\n"
     ]
    }
   ],
   "source": [
    "# Import os Module\n",
    "import os\n",
    "\n",
    "mysite = 'Abhay'+ os.linesep + 'Smart Student'\n",
    "# Print mystring\n",
    "print(mysite)"
   ]
  },
  {
   "cell_type": "markdown",
   "id": "bba1de63",
   "metadata": {},
   "source": [
    "## 6. What are the values of the given expressions?\n"
   ]
  },
  {
   "cell_type": "raw",
   "id": "be62ed69",
   "metadata": {},
   "source": [
    "'Hello, world!'[1]\n",
    "'Hello, world!'[0:5]\n",
    "'Hello, world!'[:5]\n",
    "'Hello, world!'[3:]\n"
   ]
  },
  {
   "cell_type": "markdown",
   "id": "0e12401e",
   "metadata": {},
   "source": [
    "### Answer:-"
   ]
  },
  {
   "cell_type": "code",
   "execution_count": 10,
   "id": "7911b5cf",
   "metadata": {},
   "outputs": [
    {
     "data": {
      "text/plain": [
       "'e'"
      ]
     },
     "execution_count": 10,
     "metadata": {},
     "output_type": "execute_result"
    }
   ],
   "source": [
    "'Hello, world!'[1]"
   ]
  },
  {
   "cell_type": "code",
   "execution_count": 11,
   "id": "f29d3491",
   "metadata": {},
   "outputs": [
    {
     "data": {
      "text/plain": [
       "'Hello'"
      ]
     },
     "execution_count": 11,
     "metadata": {},
     "output_type": "execute_result"
    }
   ],
   "source": [
    "'Hello, world!'[0:5]"
   ]
  },
  {
   "cell_type": "code",
   "execution_count": 12,
   "id": "7811e278",
   "metadata": {},
   "outputs": [
    {
     "data": {
      "text/plain": [
       "'Hello'"
      ]
     },
     "execution_count": 12,
     "metadata": {},
     "output_type": "execute_result"
    }
   ],
   "source": [
    "'Hello, world!'[:5]"
   ]
  },
  {
   "cell_type": "code",
   "execution_count": 13,
   "id": "ce578e37",
   "metadata": {},
   "outputs": [
    {
     "data": {
      "text/plain": [
       "'lo, world!'"
      ]
     },
     "execution_count": 13,
     "metadata": {},
     "output_type": "execute_result"
    }
   ],
   "source": [
    "'Hello, world!'[3:]"
   ]
  },
  {
   "cell_type": "markdown",
   "id": "585676f1",
   "metadata": {},
   "source": [
    "## 7. What are the values of the following expressions?\n"
   ]
  },
  {
   "cell_type": "raw",
   "id": "4445d047",
   "metadata": {},
   "source": [
    "'Hello'.upper()\n",
    "'Hello'.upper().isupper()\n",
    "'Hello'.upper().lower()\n"
   ]
  },
  {
   "cell_type": "markdown",
   "id": "c1e435f3",
   "metadata": {},
   "source": [
    "### Answer:-\n"
   ]
  },
  {
   "cell_type": "code",
   "execution_count": 14,
   "id": "806eeada",
   "metadata": {},
   "outputs": [
    {
     "data": {
      "text/plain": [
       "'HELLO'"
      ]
     },
     "execution_count": 14,
     "metadata": {},
     "output_type": "execute_result"
    }
   ],
   "source": [
    "'Hello'.upper()"
   ]
  },
  {
   "cell_type": "code",
   "execution_count": 15,
   "id": "b186785c",
   "metadata": {},
   "outputs": [
    {
     "data": {
      "text/plain": [
       "True"
      ]
     },
     "execution_count": 15,
     "metadata": {},
     "output_type": "execute_result"
    }
   ],
   "source": [
    "'Hello'.upper().isupper()"
   ]
  },
  {
   "cell_type": "code",
   "execution_count": 16,
   "id": "1d775f1e",
   "metadata": {},
   "outputs": [
    {
     "data": {
      "text/plain": [
       "'hello'"
      ]
     },
     "execution_count": 16,
     "metadata": {},
     "output_type": "execute_result"
    }
   ],
   "source": [
    "'Hello'.upper().lower()"
   ]
  },
  {
   "cell_type": "markdown",
   "id": "4a62516e",
   "metadata": {},
   "source": [
    "## 8. What are the values of the following expressions?\n"
   ]
  },
  {
   "cell_type": "raw",
   "id": "6bdee5af",
   "metadata": {},
   "source": [
    "'Remember, remember, the fifth of July.'.split()\n",
    "'-'.join('There can only one.'.split())\n"
   ]
  },
  {
   "cell_type": "markdown",
   "id": "9b1713e0",
   "metadata": {},
   "source": [
    "### Answer:-"
   ]
  },
  {
   "cell_type": "code",
   "execution_count": 17,
   "id": "ac951aa0",
   "metadata": {},
   "outputs": [
    {
     "data": {
      "text/plain": [
       "['Remember,', 'remember,', 'the', 'fifth', 'of', 'July.']"
      ]
     },
     "execution_count": 17,
     "metadata": {},
     "output_type": "execute_result"
    }
   ],
   "source": [
    "'Remember, remember, the fifth of July.'.split()"
   ]
  },
  {
   "cell_type": "markdown",
   "id": "28a1bb59",
   "metadata": {},
   "source": [
    "- The first expression splits the string into a list containing every word.\n",
    "- The second splits the string, then is joined again by .join but with dashes between."
   ]
  },
  {
   "cell_type": "code",
   "execution_count": 18,
   "id": "e763dee7",
   "metadata": {},
   "outputs": [
    {
     "data": {
      "text/plain": [
       "'There-can-only-one.'"
      ]
     },
     "execution_count": 18,
     "metadata": {},
     "output_type": "execute_result"
    }
   ],
   "source": [
    "'-'.join('There can only one.'.split())"
   ]
  },
  {
   "cell_type": "markdown",
   "id": "2203a932",
   "metadata": {},
   "source": [
    "## 9. What are the methods for right-justifying, left-justifying, and centering a string?\n",
    "### Answer:-\n"
   ]
  },
  {
   "cell_type": "raw",
   "id": "349c5b68",
   "metadata": {},
   "source": [
    "The following methods are:- \n",
    "ljust()\n",
    "rjust()\n",
    "center()"
   ]
  },
  {
   "cell_type": "code",
   "execution_count": 25,
   "id": "df195e68",
   "metadata": {},
   "outputs": [
    {
     "data": {
      "text/plain": [
       "'Abhay+++++'"
      ]
     },
     "execution_count": 25,
     "metadata": {},
     "output_type": "execute_result"
    }
   ],
   "source": [
    "# left justified\n",
    "str =\"Abhay\"\n",
    "str.ljust(10, '+')"
   ]
  },
  {
   "cell_type": "code",
   "execution_count": 26,
   "id": "99412494",
   "metadata": {},
   "outputs": [
    {
     "data": {
      "text/plain": [
       "'*****Kumar'"
      ]
     },
     "execution_count": 26,
     "metadata": {},
     "output_type": "execute_result"
    }
   ],
   "source": [
    "# right justified\n",
    "str =\"Kumar\"\n",
    "str.rjust(10,'*')"
   ]
  },
  {
   "cell_type": "code",
   "execution_count": 28,
   "id": "f72f73dc",
   "metadata": {},
   "outputs": [
    {
     "data": {
      "text/plain": [
       "'--------Aman--------'"
      ]
     },
     "execution_count": 28,
     "metadata": {},
     "output_type": "execute_result"
    }
   ],
   "source": [
    "# center justified\n",
    "str =\"Aman\"\n",
    "str.center(20,'-')"
   ]
  },
  {
   "cell_type": "markdown",
   "id": "e68b9d61",
   "metadata": {},
   "source": [
    "## 10. What is the best way to remove whitespace characters from the start or end?\n",
    "### Answer:- "
   ]
  },
  {
   "cell_type": "markdown",
   "id": "ef81620b",
   "metadata": {},
   "source": [
    "- To remove the spaces present at start and end of the string, you can use strip() function on the string.\n",
    "- The lstrip() and rstrip() methods remove whitespace from the left and right ends of a string, respectively.\n",
    "-  strip()  -----> removes white spaces from both left and right end\n",
    "- lstrip() -----> removes white spaces from left end of the string\n",
    "- rstrip() -----> removes whitespaces from right end of the string"
   ]
  },
  {
   "cell_type": "code",
   "execution_count": 31,
   "id": "abfc04f1",
   "metadata": {},
   "outputs": [
    {
     "data": {
      "text/plain": [
       "'My Name is Abhay'"
      ]
     },
     "execution_count": 31,
     "metadata": {},
     "output_type": "execute_result"
    }
   ],
   "source": [
    "str =\"     My Name is Abhay    \"\n",
    "str.strip()"
   ]
  },
  {
   "cell_type": "code",
   "execution_count": 29,
   "id": "99299434",
   "metadata": {},
   "outputs": [
    {
     "data": {
      "text/plain": [
       "'My Name is Abhay'"
      ]
     },
     "execution_count": 29,
     "metadata": {},
     "output_type": "execute_result"
    }
   ],
   "source": [
    "str =\"     My Name is Abhay\"\n",
    "str.lstrip()"
   ]
  },
  {
   "cell_type": "code",
   "execution_count": 30,
   "id": "2f1f195b",
   "metadata": {},
   "outputs": [
    {
     "data": {
      "text/plain": [
       "'My Name is Abhay'"
      ]
     },
     "execution_count": 30,
     "metadata": {},
     "output_type": "execute_result"
    }
   ],
   "source": [
    "str =\"My Name is Abhay     \"\n",
    "str.rstrip()"
   ]
  }
 ],
 "metadata": {
  "kernelspec": {
   "display_name": "Python 3 (ipykernel)",
   "language": "python",
   "name": "python3"
  },
  "language_info": {
   "codemirror_mode": {
    "name": "ipython",
    "version": 3
   },
   "file_extension": ".py",
   "mimetype": "text/x-python",
   "name": "python",
   "nbconvert_exporter": "python",
   "pygments_lexer": "ipython3",
   "version": "3.9.7"
  }
 },
 "nbformat": 4,
 "nbformat_minor": 5
}
