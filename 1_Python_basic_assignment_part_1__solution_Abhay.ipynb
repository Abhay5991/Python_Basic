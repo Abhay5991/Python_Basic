{
 "cells": [
  {
   "cell_type": "markdown",
   "id": "f138a1ea",
   "metadata": {},
   "source": [
    "#                Assignment_1"
   ]
  },
  {
   "cell_type": "markdown",
   "id": "5b7a1740",
   "metadata": {},
   "source": [
    "# Q1. In the below elements which of them are values or an expression? \n",
    " eg:- values can be integer or string and expressions will be mathematical operators."
   ]
  },
  {
   "cell_type": "markdown",
   "id": "9438a1af",
   "metadata": {},
   "source": [
    "####   * \n",
    "####  'hello'\n",
    "####  -87.8\n",
    "####  - \n",
    "####  / \n",
    "####  +\t\n",
    "####  6 "
   ]
  },
  {
   "cell_type": "markdown",
   "id": "b325bdc6",
   "metadata": {},
   "source": [
    "##  Answer is :\n",
    "   - Values are :-   'hello', -87.8, 6\n",
    "        \n",
    "\n",
    "   - expressions are :   /, * , -  , +  \n",
    "        "
   ]
  },
  {
   "cell_type": "markdown",
   "id": "0edc19a2",
   "metadata": {},
   "source": [
    "# 2. What is the difference between string and variable?\n",
    "## Answer is : "
   ]
  },
  {
   "cell_type": "markdown",
   "id": "38ef117c",
   "metadata": {},
   "source": [
    "\n",
    "- String:\n",
    "    - String is collection of character in a sequence manner enclosed with in  double quotes or  single quotes.\n",
    "        - ex. \"Abhay\" ,\"Kumar\", 'Aman' ,\"12\",'1234'\n",
    "    \n",
    "- Variable:\n",
    "   - variables are container to store data . Variable is a name given to the researve memory location where the values \n",
    "    is stored in the memory\n",
    "    \n",
    "    - A variable can hold a string, but a string can't hold a variable.\n",
    "\n",
    "    - A variable can store everything from strings to numbers. whereas A string is the values inside the quotes assigned to a string."
   ]
  },
  {
   "cell_type": "code",
   "execution_count": 130,
   "id": "678bdb95",
   "metadata": {},
   "outputs": [
    {
     "data": {
      "text/plain": [
       "str"
      ]
     },
     "execution_count": 130,
     "metadata": {},
     "output_type": "execute_result"
    }
   ],
   "source": [
    "type(\"12\")"
   ]
  },
  {
   "cell_type": "code",
   "execution_count": 131,
   "id": "1ba5bc9d",
   "metadata": {},
   "outputs": [
    {
     "data": {
      "text/plain": [
       "str"
      ]
     },
     "execution_count": 131,
     "metadata": {},
     "output_type": "execute_result"
    }
   ],
   "source": [
    "type('1234')"
   ]
  },
  {
   "cell_type": "code",
   "execution_count": 132,
   "id": "27ace388",
   "metadata": {},
   "outputs": [],
   "source": [
    "myname = \"My name is abhay\"\n",
    "roll_no = 5991\n",
    "# hear myname and roll_no is a variables"
   ]
  },
  {
   "cell_type": "markdown",
   "id": "d27feeed",
   "metadata": {},
   "source": [
    "# 3. Describe three different data types.\n",
    "## Answer:"
   ]
  },
  {
   "cell_type": "markdown",
   "id": "22792250",
   "metadata": {},
   "source": [
    "- (1) A tuple is a collection of elements that is ordered and immutable. It Allows duplicate members and is enclosed with parenthesis.\n",
    "   -  ex:-  T = (\"Abhay\", 91, True, False, \"male\")\n",
    "\n",
    "- (2) Set is a collection of elements that is unordered, unindexed, and mutable. There are No duplicate members allowed and enclosed with Curly Braces.\n",
    "   -  ex:-  myset = {\"kumar\", \"banana\", \"cherry\" ,1 ,2, 3,4,4,5,6,6}\n",
    "\n",
    "- (3) Dictionary is a collection of elements with key: value pair. Dictionary is ordered and mutable But Keys are not. \n",
    "    - ex:-  AbhayDict = { \"name\": \"Abhay\", \"rollNo\" : \"91\", \"year\": 1989 }"
   ]
  },
  {
   "cell_type": "code",
   "execution_count": 133,
   "id": "188ab001",
   "metadata": {},
   "outputs": [],
   "source": [
    "Tup = (\"Abhay\", 91, True, False, \"male\")"
   ]
  },
  {
   "cell_type": "code",
   "execution_count": 134,
   "id": "e18f1d8d",
   "metadata": {},
   "outputs": [
    {
     "data": {
      "text/plain": [
       "tuple"
      ]
     },
     "execution_count": 134,
     "metadata": {},
     "output_type": "execute_result"
    }
   ],
   "source": [
    "type(Tup)"
   ]
  },
  {
   "cell_type": "code",
   "execution_count": 135,
   "id": "268ac1de",
   "metadata": {},
   "outputs": [],
   "source": [
    "myset = {\"kumar\", \"banana\", \"cherry\" ,1 ,2, 3,4,4,5,6,6}"
   ]
  },
  {
   "cell_type": "code",
   "execution_count": 136,
   "id": "12eb1450",
   "metadata": {},
   "outputs": [
    {
     "data": {
      "text/plain": [
       "set"
      ]
     },
     "execution_count": 136,
     "metadata": {},
     "output_type": "execute_result"
    }
   ],
   "source": [
    "type(myset)"
   ]
  },
  {
   "cell_type": "code",
   "execution_count": 137,
   "id": "e266e43c",
   "metadata": {},
   "outputs": [],
   "source": [
    "AbhayDict = { \"name\": \"Abhay\", \"rollNo\" : \"91\", \"year\": 1989 }"
   ]
  },
  {
   "cell_type": "code",
   "execution_count": 138,
   "id": "69846805",
   "metadata": {},
   "outputs": [
    {
     "data": {
      "text/plain": [
       "dict"
      ]
     },
     "execution_count": 138,
     "metadata": {},
     "output_type": "execute_result"
    }
   ],
   "source": [
    "type(AbhayDict)"
   ]
  },
  {
   "cell_type": "markdown",
   "id": "0bb7bfd2",
   "metadata": {},
   "source": [
    "# 4. What is an expression made up of? What do all expressions do?\n",
    "## Answer:-"
   ]
  },
  {
   "cell_type": "markdown",
   "id": "ff40c24f",
   "metadata": {},
   "source": [
    "- Expression :-\n",
    "    - An expression is a combination of operators, constants and variables.\n",
    "    - An expression may consist of one or more operands, and zero or more operators to produce a value.\n",
    "        - Expressions are used to evaluate the values or represent the result on the screen.\n",
    "        - Ex:- Expression = (Number, Math Operator, Number)"
   ]
  },
  {
   "cell_type": "code",
   "execution_count": 139,
   "id": "b2e473b4",
   "metadata": {},
   "outputs": [
    {
     "name": "stdout",
     "output_type": "stream",
     "text": [
      "The expression is d = 5 * 2 + 3\n",
      "Result is d = 13\n"
     ]
    }
   ],
   "source": [
    "# variables are\n",
    "a = 5\n",
    "b = 2\n",
    "c = 3\n",
    "# The expression - is\n",
    "d = a * b + c\n",
    "    \n",
    "# Evalues and store the value in C\n",
    "print('The expression is d = {} * {} + {}'.format(a,b,c))\n",
    "print('Result is d =',d)"
   ]
  },
  {
   "cell_type": "markdown",
   "id": "d14788d8",
   "metadata": {},
   "source": [
    "# 5. This assignment statements, like spam = 10. What is the difference between an expression and a statement?\n",
    "## Answer:"
   ]
  },
  {
   "cell_type": "markdown",
   "id": "4f02bd88",
   "metadata": {},
   "source": [
    "### Expression Vs Statement"
   ]
  },
  {
   "cell_type": "markdown",
   "id": "39105826",
   "metadata": {},
   "source": [
    " - Expression\n",
    "     - Expressions always returns a value\n",
    "     - Any expression could be used as a statement, but not every expression is actually used as a statement.\n",
    "     - Functions are also expressions. Even a non returning function will still return None value, so it is an expression.\n",
    "     - Can print the result value\n",
    "     - Examples Of Python Expressions: “Hello” + “World”, 4 + 5 etc.\n",
    "     \n",
    "            \n",
    "* Statement\n",
    "    - A statement never returns a value\n",
    "    - Cannot print any result\n",
    "    - Examples Of Python Statements: Assignment statements, conditional branching, loops, classes, import, def, try, except, pass, del etc\n",
    "\n",
    "- result = \"Hello\" + \"World\" \n",
    "    - Here we are assigning the final evaluated expression value to another variable ‘result’. <br>This type of command where a value is assigned to a variable is called a Python Statement."
   ]
  },
  {
   "cell_type": "markdown",
   "id": "3ee4dcc6",
   "metadata": {},
   "source": [
    "# 6. After running the following code, what does the variable bacon contain?\n",
    "### bacon = 22\n",
    "### bacon + 1\n"
   ]
  },
  {
   "cell_type": "code",
   "execution_count": 140,
   "id": "244dadc8",
   "metadata": {},
   "outputs": [],
   "source": [
    "bacon = 22"
   ]
  },
  {
   "cell_type": "code",
   "execution_count": 141,
   "id": "43a8aaf4",
   "metadata": {},
   "outputs": [
    {
     "data": {
      "text/plain": [
       "23"
      ]
     },
     "execution_count": 141,
     "metadata": {},
     "output_type": "execute_result"
    }
   ],
   "source": [
    "bacon + 1"
   ]
  },
  {
   "cell_type": "markdown",
   "id": "5d2f09a5",
   "metadata": {},
   "source": [
    "# Answer:\n",
    "- hear final answer is 23 but becon will still have value 22.\n",
    "\n",
    "- The becon is assinged with 22, but becon + 1 is not reassigned to becon again like, becon= becon + 1. \n",
    "    - So  the value of becon is not changed"
   ]
  },
  {
   "cell_type": "code",
   "execution_count": 144,
   "id": "c17e1a90",
   "metadata": {},
   "outputs": [
    {
     "name": "stdout",
     "output_type": "stream",
     "text": [
      "c =  23\n",
      "bacon =  22\n"
     ]
    }
   ],
   "source": [
    "bacon = 22\n",
    "c = bacon + 1\n",
    "print('c = ',c)\n",
    "print('bacon = ',bacon)"
   ]
  },
  {
   "cell_type": "markdown",
   "id": "f14fd79f",
   "metadata": {},
   "source": [
    "# 7. What should the values of the following two terms be?\n",
    "##  'spam' + 'spamspam'\n",
    "##  'spam' * 3\n"
   ]
  },
  {
   "cell_type": "code",
   "execution_count": 145,
   "id": "5a76e591",
   "metadata": {},
   "outputs": [
    {
     "data": {
      "text/plain": [
       "'spamspamspam'"
      ]
     },
     "execution_count": 145,
     "metadata": {},
     "output_type": "execute_result"
    }
   ],
   "source": [
    "'spam' + 'spamspam'"
   ]
  },
  {
   "cell_type": "code",
   "execution_count": 146,
   "id": "bcb06227",
   "metadata": {},
   "outputs": [
    {
     "data": {
      "text/plain": [
       "'spamspamspam'"
      ]
     },
     "execution_count": 146,
     "metadata": {},
     "output_type": "execute_result"
    }
   ],
   "source": [
    "'spam' * 3"
   ]
  },
  {
   "cell_type": "markdown",
   "id": "7e22dec5",
   "metadata": {},
   "source": [
    "Answer: Both outputs 'spamspamspam'`"
   ]
  },
  {
   "cell_type": "markdown",
   "id": "37ef87b1",
   "metadata": {},
   "source": [
    "# 8. Why is eggs a valid variable name while 100 is invalid?\n",
    "## Answer"
   ]
  },
  {
   "cell_type": "markdown",
   "id": "da5a1680",
   "metadata": {},
   "source": [
    "-  Because Variable name can not starts with numbers."
   ]
  },
  {
   "cell_type": "code",
   "execution_count": 147,
   "id": "997ee719",
   "metadata": {},
   "outputs": [
    {
     "data": {
      "text/plain": [
       "120"
      ]
     },
     "execution_count": 147,
     "metadata": {},
     "output_type": "execute_result"
    }
   ],
   "source": [
    "eggs = 120\n",
    "eggs"
   ]
  },
  {
   "cell_type": "markdown",
   "id": "48fa6640",
   "metadata": {},
   "source": [
    "# 9. What three functions can be used to get the integer, floating-point number, or string version of a value?\n",
    "## Answer"
   ]
  },
  {
   "cell_type": "markdown",
   "id": "eb6aef89",
   "metadata": {},
   "source": [
    "### The following functions are\n",
    "- int()\n",
    "- float()\n",
    "- str()  will convert the values to integer, float or string versions of the values passed to them"
   ]
  },
  {
   "cell_type": "code",
   "execution_count": 148,
   "id": "d75513a2",
   "metadata": {},
   "outputs": [],
   "source": [
    "age =32"
   ]
  },
  {
   "cell_type": "code",
   "execution_count": 149,
   "id": "1ecc9399",
   "metadata": {},
   "outputs": [
    {
     "data": {
      "text/plain": [
       "32"
      ]
     },
     "execution_count": 149,
     "metadata": {},
     "output_type": "execute_result"
    }
   ],
   "source": [
    "int(age)"
   ]
  },
  {
   "cell_type": "code",
   "execution_count": 150,
   "id": "42d6a265",
   "metadata": {},
   "outputs": [
    {
     "data": {
      "text/plain": [
       "32.0"
      ]
     },
     "execution_count": 150,
     "metadata": {},
     "output_type": "execute_result"
    }
   ],
   "source": [
    "float(age)"
   ]
  },
  {
   "cell_type": "code",
   "execution_count": 151,
   "id": "6906d049",
   "metadata": {},
   "outputs": [
    {
     "data": {
      "text/plain": [
       "'32'"
      ]
     },
     "execution_count": 151,
     "metadata": {},
     "output_type": "execute_result"
    }
   ],
   "source": [
    "str(age)"
   ]
  },
  {
   "cell_type": "markdown",
   "id": "48e8a868",
   "metadata": {},
   "source": [
    "# 10. Why does this expression cause an error? How can you fix it?\n",
    "## 'I have eaten ' + 99 + ' burritos.'\n"
   ]
  },
  {
   "cell_type": "code",
   "execution_count": 152,
   "id": "0af7e05e",
   "metadata": {},
   "outputs": [
    {
     "data": {
      "text/plain": [
       "'I have eaten 99 burritos.'"
      ]
     },
     "execution_count": 152,
     "metadata": {},
     "output_type": "execute_result"
    }
   ],
   "source": [
    "'I have eaten ' + \"99\" + ' burritos.'"
   ]
  },
  {
   "cell_type": "code",
   "execution_count": 153,
   "id": "a2888400",
   "metadata": {},
   "outputs": [
    {
     "data": {
      "text/plain": [
       "'I have eaten 99 burritos.'"
      ]
     },
     "execution_count": 153,
     "metadata": {},
     "output_type": "execute_result"
    }
   ],
   "source": [
    "'I have eaten ' + str(99) + ' burritos.'"
   ]
  },
  {
   "cell_type": "markdown",
   "id": "f4befef5",
   "metadata": {},
   "source": [
    "The expression causes an error because 99 is an integer, and only strings can be concatenated to other strings with the + operator. The correct way is\n",
    "- I have eaten ' + str(99) + ' burritos.'.\n",
    "    - or\n",
    "- 'I have eaten ' + \"99\" + ' burritos.'"
   ]
  }
 ],
 "metadata": {
  "kernelspec": {
   "display_name": "Python 3 (ipykernel)",
   "language": "python",
   "name": "python3"
  },
  "language_info": {
   "codemirror_mode": {
    "name": "ipython",
    "version": 3
   },
   "file_extension": ".py",
   "mimetype": "text/x-python",
   "name": "python",
   "nbconvert_exporter": "python",
   "pygments_lexer": "ipython3",
   "version": "3.9.7"
  }
 },
 "nbformat": 4,
 "nbformat_minor": 5
}
