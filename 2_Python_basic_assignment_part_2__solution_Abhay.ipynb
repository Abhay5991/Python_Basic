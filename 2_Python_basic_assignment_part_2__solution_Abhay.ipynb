{
 "cells": [
  {
   "cell_type": "markdown",
   "id": "5c147892",
   "metadata": {},
   "source": [
    "# Assignment_2"
   ]
  },
  {
   "cell_type": "markdown",
   "id": "51b7e164",
   "metadata": {},
   "source": [
    "## Q.1: What are the two values of the Boolean data type? How do you write them?\n",
    "###    Answer:-"
   ]
  },
  {
   "cell_type": "markdown",
   "id": "a781a0f2",
   "metadata": {},
   "source": [
    "- Boolean values have two possible states: \n",
    "    - True and False. \n",
    "    - In binary, these are represented by 1 and 0"
   ]
  },
  {
   "cell_type": "code",
   "execution_count": 88,
   "id": "46c1918d",
   "metadata": {},
   "outputs": [
    {
     "data": {
      "text/plain": [
       "bool"
      ]
     },
     "execution_count": 88,
     "metadata": {},
     "output_type": "execute_result"
    }
   ],
   "source": [
    "a1 = True\n",
    "type(a1)\n"
   ]
  },
  {
   "cell_type": "code",
   "execution_count": 89,
   "id": "cde9f1ed",
   "metadata": {},
   "outputs": [
    {
     "data": {
      "text/plain": [
       "bool"
      ]
     },
     "execution_count": 89,
     "metadata": {},
     "output_type": "execute_result"
    }
   ],
   "source": [
    "a2 = False\n",
    "type(a2)"
   ]
  },
  {
   "cell_type": "markdown",
   "id": "103668a9",
   "metadata": {},
   "source": [
    "## 2. What are the three different types of Boolean operators?\n",
    "### Answer:-"
   ]
  },
  {
   "cell_type": "markdown",
   "id": "aae48e0f",
   "metadata": {},
   "source": [
    "These are mainly three types :- \n",
    "  -  AND, Or, and NOT"
   ]
  },
  {
   "cell_type": "markdown",
   "id": "63befabc",
   "metadata": {},
   "source": [
    "Python Boolean OR Operator Examples:"
   ]
  },
  {
   "cell_type": "code",
   "execution_count": 90,
   "id": "3c528ffc",
   "metadata": {},
   "outputs": [
    {
     "name": "stdout",
     "output_type": "stream",
     "text": [
      "True\n"
     ]
    }
   ],
   "source": [
    "# or operator\n",
    " \n",
    "a = 5\n",
    "b = 12\n",
    "c = 43\n",
    " \n",
    "if a < b or b > c:\n",
    "    print(True)\n",
    "else:\n",
    "    print(False)"
   ]
  },
  {
   "cell_type": "markdown",
   "id": "bb5197e2",
   "metadata": {},
   "source": [
    "Boolean And Operator Examples:"
   ]
  },
  {
   "cell_type": "code",
   "execution_count": 91,
   "id": "85e55bca",
   "metadata": {},
   "outputs": [
    {
     "name": "stdout",
     "output_type": "stream",
     "text": [
      "Atleast one number has boolean value as False\n"
     ]
    }
   ],
   "source": [
    "# and operator\n",
    " \n",
    "a = 0\n",
    "b = 20\n",
    " \n",
    "if a and b :\n",
    "    print(\"every numbers has boolean value as True\")\n",
    "else:\n",
    "    print(\"Atleast one number has boolean value as False\")"
   ]
  },
  {
   "cell_type": "markdown",
   "id": "0ec6f083",
   "metadata": {},
   "source": [
    "Boolean Not Operator Examples:"
   ]
  },
  {
   "cell_type": "code",
   "execution_count": 92,
   "id": "3c78cfb3",
   "metadata": {},
   "outputs": [
    {
     "name": "stdout",
     "output_type": "stream",
     "text": [
      "Boolean value of b is False\n"
     ]
    }
   ],
   "source": [
    "# not operator\n",
    " \n",
    "b = 0\n",
    " \n",
    "if not b:\n",
    "    print(\"Boolean value of b is False\")"
   ]
  },
  {
   "cell_type": "markdown",
   "id": "2a09de9e",
   "metadata": {},
   "source": [
    "## 3. Make a list of each Boolean operator's truth tables  (i.e. every possible combination of Boolean values for the operator and what it evaluate).\n",
    "### Answer:- "
   ]
  },
  {
   "cell_type": "markdown",
   "id": "71dfe8a4",
   "metadata": {},
   "source": [
    "pip install truth-table-generator"
   ]
  },
  {
   "cell_type": "code",
   "execution_count": 93,
   "id": "f1b7df70",
   "metadata": {},
   "outputs": [],
   "source": [
    "import ttg"
   ]
  },
  {
   "cell_type": "markdown",
   "id": "48076190",
   "metadata": {},
   "source": [
    "A truth table has one column for each input variable (for example, p and q), and one final column showing all of the possible results of the logical operation that the table represents. If the input has only one list of strings, each string is considered an input variable:"
   ]
  },
  {
   "cell_type": "code",
   "execution_count": 94,
   "id": "39995fb5",
   "metadata": {},
   "outputs": [
    {
     "name": "stdout",
     "output_type": "stream",
     "text": [
      "+-----+-----+-----+\n",
      "|  p  |  q  |  r  |\n",
      "|-----+-----+-----|\n",
      "|  1  |  1  |  1  |\n",
      "|  1  |  1  |  0  |\n",
      "|  1  |  0  |  1  |\n",
      "|  1  |  0  |  0  |\n",
      "|  0  |  1  |  1  |\n",
      "|  0  |  1  |  0  |\n",
      "|  0  |  0  |  1  |\n",
      "|  0  |  0  |  0  |\n",
      "+-----+-----+-----+\n"
     ]
    }
   ],
   "source": [
    "print(ttg.Truths(['p', 'q', 'r']))"
   ]
  },
  {
   "cell_type": "markdown",
   "id": "4ca2d602",
   "metadata": {},
   "source": [
    "A second list of strings can be passed with propositional expressions created with logical operators."
   ]
  },
  {
   "cell_type": "code",
   "execution_count": 95,
   "id": "1b83684d",
   "metadata": {},
   "outputs": [
    {
     "name": "stdout",
     "output_type": "stream",
     "text": [
      "+-----+-----+-----+-----------------+---------------+--------------------+\n",
      "|  p  |  q  |  r  |  p and q and r  |  p or q or r  |  (p or (~q)) => r  |\n",
      "|-----+-----+-----+-----------------+---------------+--------------------|\n",
      "|  1  |  1  |  1  |        1        |       1       |         1          |\n",
      "|  1  |  1  |  0  |        0        |       1       |         0          |\n",
      "|  1  |  0  |  1  |        0        |       1       |         1          |\n",
      "|  1  |  0  |  0  |        0        |       1       |         0          |\n",
      "|  0  |  1  |  1  |        0        |       1       |         1          |\n",
      "|  0  |  1  |  0  |        0        |       1       |         1          |\n",
      "|  0  |  0  |  1  |        0        |       1       |         1          |\n",
      "|  0  |  0  |  0  |        0        |       0       |         0          |\n",
      "+-----+-----+-----+-----------------+---------------+--------------------+\n"
     ]
    }
   ],
   "source": [
    "print(ttg.Truths(['p', 'q', 'r'], ['p and q and r', 'p or q or r', '(p or (~q)) => r']))"
   ]
  },
  {
   "cell_type": "markdown",
   "id": "da9b763f",
   "metadata": {},
   "source": [
    "- Showing words (True / False)\n",
    "    - If you prefer the words True and False instead of numbers 0 and 1, there is a third parameter, boolean type, ints that can be set to False:"
   ]
  },
  {
   "cell_type": "code",
   "execution_count": 96,
   "id": "7687895b",
   "metadata": {},
   "outputs": [
    {
     "name": "stdout",
     "output_type": "stream",
     "text": [
      "+-------+-------+-------+-----------------+---------------+--------------------+\n",
      "|   p   |   q   |   r   |  p and q and r  |  p or q or r  |  (p or (~q)) => r  |\n",
      "|-------+-------+-------+-----------------+---------------+--------------------|\n",
      "| True  | True  | True  |      True       |     True      |        True        |\n",
      "| True  | True  | False |      False      |     True      |       False        |\n",
      "| True  | False | True  |      False      |     True      |        True        |\n",
      "| True  | False | False |      False      |     True      |       False        |\n",
      "| False | True  | True  |      False      |     True      |        True        |\n",
      "| False | True  | False |      False      |     True      |        True        |\n",
      "| False | False | True  |      False      |     True      |        True        |\n",
      "| False | False | False |      False      |     False     |       False        |\n",
      "+-------+-------+-------+-----------------+---------------+--------------------+\n"
     ]
    }
   ],
   "source": [
    "print(ttg.Truths(['p', 'q', 'r'], ['p and q and r', 'p or q or r', '(p or (~q)) => r'],ints=False))"
   ]
  },
  {
   "cell_type": "code",
   "execution_count": 97,
   "id": "0f7a4217",
   "metadata": {},
   "outputs": [
    {
     "name": "stdout",
     "output_type": "stream",
     "text": [
      "+-------+-------+-----------+----------+-----------------------+\n",
      "|   p   |   q   |  p and q  |  p or q  |  (p or (~q)) => (~p)  |\n",
      "|-------+-------+-----------+----------+-----------------------|\n",
      "| True  | True  |   True    |   True   |         False         |\n",
      "| True  | False |   False   |   True   |         False         |\n",
      "| False | True  |   False   |   True   |         True          |\n",
      "| False | False |   False   |  False   |         True          |\n",
      "+-------+-------+-----------+----------+-----------------------+\n"
     ]
    }
   ],
   "source": [
    "print(ttg.Truths(['p', 'q'], ['p and q', 'p or q', '(p or (~q)) => (~p)'], ints=False))"
   ]
  },
  {
   "cell_type": "code",
   "execution_count": 98,
   "id": "3a5fb87e",
   "metadata": {},
   "outputs": [
    {
     "name": "stdout",
     "output_type": "stream",
     "text": [
      "+-----+-----+-----------+----------+-----------------------+\n",
      "|  p  |  q  |  p and q  |  p or q  |  (p or (~q)) => (~p)  |\n",
      "|-----+-----+-----------+----------+-----------------------|\n",
      "|  1  |  1  |     1     |    1     |           0           |\n",
      "|  1  |  0  |     0     |    1     |           0           |\n",
      "|  0  |  1  |     0     |    1     |           1           |\n",
      "|  0  |  0  |     0     |    0     |           1           |\n",
      "+-----+-----+-----------+----------+-----------------------+\n"
     ]
    }
   ],
   "source": [
    "print(ttg.Truths(['p', 'q'], ['p and q', 'p or q', '(p or (~q)) => (~p)'], ))"
   ]
  },
  {
   "cell_type": "code",
   "execution_count": 99,
   "id": "673ca612",
   "metadata": {},
   "outputs": [
    {
     "name": "stdout",
     "output_type": "stream",
     "text": [
      "+-----+-----+----------+---------+\n",
      "|  p  |  q  |  p => q  |  p = q  |\n",
      "|-----+-----+----------+---------|\n",
      "|  1  |  1  |    1     |    1    |\n",
      "|  1  |  0  |    0     |    0    |\n",
      "|  0  |  1  |    1     |    0    |\n",
      "|  0  |  0  |    1     |    1    |\n",
      "+-----+-----+----------+---------+\n"
     ]
    }
   ],
   "source": [
    "table = ttg.Truths(['p', 'q'], ['p => q', 'p = q'])\n",
    "print(table)"
   ]
  },
  {
   "cell_type": "markdown",
   "id": "0d9ef723",
   "metadata": {},
   "source": [
    "## 4. What are the values of the following expressions?\n",
    "- (5 > 4) and (3 == 5)\n",
    "- not (5 > 4)\n",
    "- (5 > 4) or (3 == 5)\n",
    "- not ((5 > 4) or (3 == 5))\n",
    "- (True and True) and (True == False)\n",
    "- (not False) or (not True)\n"
   ]
  },
  {
   "cell_type": "code",
   "execution_count": 100,
   "id": "d031300d",
   "metadata": {},
   "outputs": [
    {
     "data": {
      "text/plain": [
       "False"
      ]
     },
     "execution_count": 100,
     "metadata": {},
     "output_type": "execute_result"
    }
   ],
   "source": [
    "(5 > 4) and (3 == 5)  #True and False = False"
   ]
  },
  {
   "cell_type": "code",
   "execution_count": 101,
   "id": "fe4a44c3",
   "metadata": {},
   "outputs": [
    {
     "data": {
      "text/plain": [
       "False"
      ]
     },
     "execution_count": 101,
     "metadata": {},
     "output_type": "execute_result"
    }
   ],
   "source": [
    "not (5 > 4)  #not(True) = False"
   ]
  },
  {
   "cell_type": "code",
   "execution_count": 102,
   "id": "80f545ef",
   "metadata": {},
   "outputs": [
    {
     "data": {
      "text/plain": [
       "True"
      ]
     },
     "execution_count": 102,
     "metadata": {},
     "output_type": "execute_result"
    }
   ],
   "source": [
    "(5 > 4) or (3 == 5)    #True or False = True"
   ]
  },
  {
   "cell_type": "code",
   "execution_count": 103,
   "id": "03f09155",
   "metadata": {},
   "outputs": [
    {
     "data": {
      "text/plain": [
       "False"
      ]
     },
     "execution_count": 103,
     "metadata": {},
     "output_type": "execute_result"
    }
   ],
   "source": [
    "not ((5 > 4) or (3 == 5))     #not(True or False) = False"
   ]
  },
  {
   "cell_type": "code",
   "execution_count": 104,
   "id": "877614a3",
   "metadata": {},
   "outputs": [
    {
     "data": {
      "text/plain": [
       "False"
      ]
     },
     "execution_count": 104,
     "metadata": {},
     "output_type": "execute_result"
    }
   ],
   "source": [
    "(True and True) and (True == False)   # True and False = False"
   ]
  },
  {
   "cell_type": "code",
   "execution_count": 105,
   "id": "7bbbd959",
   "metadata": {},
   "outputs": [
    {
     "data": {
      "text/plain": [
       "True"
      ]
     },
     "execution_count": 105,
     "metadata": {},
     "output_type": "execute_result"
    }
   ],
   "source": [
    "(not False) or (not True)   # True or False = True"
   ]
  },
  {
   "cell_type": "markdown",
   "id": "75446259",
   "metadata": {},
   "source": [
    "## 5. What are the six comparison operators?\n",
    "### Answer:-"
   ]
  },
  {
   "cell_type": "markdown",
   "id": "9ca860f2",
   "metadata": {},
   "source": [
    "-  Answer: Following are 6 comparision operator in Python\n",
    "     1:   == ---------> Equal \n",
    "        - != ---------> Not equal\n",
    "        - >  ---------> Greater than\n",
    "        - <  ---------> Less than\n",
    "        - >= ---------> Greater than or equal to\n",
    "        - <= ---------> Less than or equal to"
   ]
  },
  {
   "cell_type": "code",
   "execution_count": 106,
   "id": "bf1dfeb7",
   "metadata": {},
   "outputs": [
    {
     "name": "stdout",
     "output_type": "stream",
     "text": [
      "a is not equal to b\n",
      "a is not equal to b\n",
      "a is less then b\n",
      "a is not greater than b\n",
      "a is either less than or equal to  b\n",
      "b is either greater than  or equal to b\n"
     ]
    }
   ],
   "source": [
    "a = 2\n",
    "b = 10\n",
    "c = 12\n",
    "\n",
    "if ( a == b ):\n",
    "   print (\"a is equal to b\")\n",
    "else:\n",
    "   print (\"a is not equal to b\")\n",
    "\n",
    "if ( a != b ):\n",
    "    print (\"a is not equal to b\")\n",
    "else:\n",
    "    print (\"a is equal to b\")\n",
    "\n",
    "if ( a < b ):\n",
    "   print (\"a is less then b\")\n",
    "else:\n",
    "   print (\"a is not less then b\")\n",
    "\n",
    "if ( a > b ):\n",
    "   print(\"a is greater than b\")\n",
    "else:\n",
    "   print(\"a is not greater than b\")\n",
    "\n",
    "a = 5\n",
    "b = 20\n",
    "if ( a <= b ):\n",
    "   print (\"a is either less than or equal to  b\")\n",
    "else:\n",
    "   print (\" a is neither less than nor equal to  b\")\n",
    "\n",
    "if ( b >= a ):\n",
    "   print (\"b is either greater than  or equal to b\")\n",
    "else:\n",
    "   print (\"b is neither greater than  nor equal to b\")"
   ]
  },
  {
   "cell_type": "markdown",
   "id": "42ab4131",
   "metadata": {},
   "source": [
    "##  6. How do you tell the difference between the equal to and assignment operators?Describe a condition and when you would use one.\n",
    "### Answer:- "
   ]
  },
  {
   "cell_type": "markdown",
   "id": "a0f4ea78",
   "metadata": {},
   "source": [
    "== is the equal to operator that compares two values and evaluates to a Boolean <br>\n",
    "=  is the assignment operator that stores a value in a variable.\n",
    "\n",
    "- For example:-"
   ]
  },
  {
   "cell_type": "code",
   "execution_count": 107,
   "id": "eae3d0d6",
   "metadata": {},
   "outputs": [
    {
     "name": "stdout",
     "output_type": "stream",
     "text": [
      "a is not equal to b\n"
     ]
    }
   ],
   "source": [
    "a = \"Abhay\"\n",
    "b = \"Kumar\"\n",
    "\n",
    "if ( a == b ):\n",
    "   print (\"a is equal to b\")\n",
    "else:\n",
    "   print (\"a is not equal to b\")"
   ]
  },
  {
   "cell_type": "code",
   "execution_count": 108,
   "id": "5c2770f8",
   "metadata": {},
   "outputs": [],
   "source": [
    "a = 100   # hear 100 is assign to a\n",
    "b = 200   # hear 200 is assign to b\n",
    "name = 'aman' # hear aman is assign to name"
   ]
  },
  {
   "cell_type": "markdown",
   "id": "d491e429",
   "metadata": {},
   "source": [
    "- Assignment Operators are:- \n",
    "    - a. “=”: - #simplest assignment operator.\n",
    "    - b. “+=”: - # (a += b) can be written as (a = a + b)\n",
    "    - c.“-=”:  - #(a -= b) can be written as (a = a - b)\n",
    "    - d. “*=”: - #(a *= b) can be written as (a = a * b)\n",
    "    - e. “/=”: - #(a /= b) can be written as (a = a / b)\n"
   ]
  },
  {
   "cell_type": "markdown",
   "id": "f25ee0ae",
   "metadata": {},
   "source": [
    "## 7. Identify the three blocks in this code:\n"
   ]
  },
  {
   "cell_type": "raw",
   "id": "ff088c8f",
   "metadata": {},
   "source": [
    "spam = 0   \n",
    "\n",
    "if spam == 10:\n",
    "    print(\"eggs\")  \n",
    "\n",
    "if spam > 5:\n",
    "    print(\"bacon\")\n",
    "else:\n",
    "    print(\"ham\")\n",
    "    print(\"spam\")\n",
    "    print(\"spam\")"
   ]
  },
  {
   "cell_type": "code",
   "execution_count": 111,
   "id": "820691c0",
   "metadata": {},
   "outputs": [
    {
     "name": "stdout",
     "output_type": "stream",
     "text": [
      "ham\n",
      "spam\n",
      "spam\n"
     ]
    }
   ],
   "source": [
    "spam = 0   \n",
    "\n",
    "if spam == 10:     # 1st Block, only one statement print\n",
    "    print(\"eggs\")  \n",
    "\n",
    "if spam > 5:        # 2nd Block, only one statement print\n",
    "    print(\"bacon\")\n",
    "else:               # 3rd Block, three statement print\n",
    "    print(\"ham\")\n",
    "    print(\"spam\")\n",
    "    print(\"spam\")"
   ]
  },
  {
   "cell_type": "markdown",
   "id": "2421df77",
   "metadata": {},
   "source": [
    "## 8. Write code that prints Hello if 1 is stored in spam, prints Howdy if 2 is stored in spam, and prints Greetings! if anything else is stored in spam.\n",
    "### Answer"
   ]
  },
  {
   "cell_type": "code",
   "execution_count": null,
   "id": "dee515c4",
   "metadata": {},
   "outputs": [],
   "source": [
    "# spam = int(input(\"Enter spam value :\"))\n",
    "if spam == 1 :\n",
    "    print(\"Hello\")\n",
    "elif spam == 2:\n",
    "    print(\"Howdy\")\n",
    "else:\n",
    "    print(\"Greetings!!!\")"
   ]
  },
  {
   "cell_type": "markdown",
   "id": "48062257",
   "metadata": {},
   "source": [
    "## 9.If your programme is stuck in an endless loop, what keys you’ll press?\n",
    "### Answer:- "
   ]
  },
  {
   "cell_type": "markdown",
   "id": "7195a70f",
   "metadata": {},
   "source": [
    "Press CTRL-C to stop a program stuck in an endless loop. "
   ]
  },
  {
   "cell_type": "markdown",
   "id": "517ad788",
   "metadata": {},
   "source": [
    "## 10. How can you tell the difference between break and continue?\n",
    "### Answer:- "
   ]
  },
  {
   "cell_type": "markdown",
   "id": "73456819",
   "metadata": {},
   "source": [
    "- Difference between break and continue in python.\n",
    "    - break :-\n",
    "        - It eliminates the execution of remaining iteration of loop\n",
    "        - ‘break’ will resume control of program to the end of loop enclosing that ‘break’.\n",
    "        - useful, if condition always evaluates to be True\n",
    "    - continue :-\n",
    "        - It will terminate only the current iteration of loop.\n",
    "        - The ‘continue’ will resume the control of the program to next iteration of that loop enclosing ‘continue'\n",
    "        - jumps for next iteration\n",
    "        - useful, if wants to skip execution of some statement(s) inside the loop for any particular iteration"
   ]
  },
  {
   "cell_type": "code",
   "execution_count": 159,
   "id": "e5db49c4",
   "metadata": {},
   "outputs": [
    {
     "name": "stdout",
     "output_type": "stream",
     "text": [
      "The Number is : 0\n",
      "The Number is : 1\n",
      "The Number is : 2\n",
      "The Number is : 3\n",
      "The Number is : 4\n",
      "The Number is : 5\n",
      "The Number is : 6\n"
     ]
    }
   ],
   "source": [
    "#Break Example\n",
    "for i in range(10):    \n",
    "    if i == 7:\n",
    "        break  \n",
    "    print(\"The Number is :\" , i)       \n",
    "   "
   ]
  },
  {
   "cell_type": "code",
   "execution_count": 158,
   "id": "ee84209f",
   "metadata": {},
   "outputs": [
    {
     "name": "stdout",
     "output_type": "stream",
     "text": [
      "The Number is : 0\n",
      "The Number is : 1\n",
      "The Number is : 2\n",
      "The Number is : 3\n",
      "The Number is : 4\n",
      "The Number is : 5\n",
      "The Number is : 6\n",
      "The Number is : 8\n",
      "The Number is : 9\n"
     ]
    }
   ],
   "source": [
    "# continue Example\n",
    "for i in range(10):    \n",
    "    if i == 7:\n",
    "        continue  \n",
    "    print(\"The Number is :\" , i)"
   ]
  },
  {
   "cell_type": "markdown",
   "id": "1f7a869b",
   "metadata": {},
   "source": [
    "## 11. In a for loop, what is the difference between range(10), range(0, 10), and range(0, 10, 1)?\n"
   ]
  },
  {
   "cell_type": "markdown",
   "id": "362f33c9",
   "metadata": {},
   "source": [
    "- Answer : There is no difference in the range(10), range(0,10) and range(0,10,1).They all do the same thing. Range by default takes 0 as starting point and 1 as by default increment. We can define the same range() function with three different way.\n",
    "- 1: range(10)\n",
    "- 2: range(0, 10)\n",
    "- 3: range(0, 10, 1)\n",
    "- Example:- "
   ]
  },
  {
   "cell_type": "code",
   "execution_count": 160,
   "id": "049bec77",
   "metadata": {},
   "outputs": [
    {
     "name": "stdout",
     "output_type": "stream",
     "text": [
      "0\n",
      "1\n",
      "2\n",
      "3\n",
      "4\n",
      "5\n",
      "6\n",
      "7\n",
      "8\n",
      "9\n"
     ]
    }
   ],
   "source": [
    "for i in range(10):\n",
    "    print(i)"
   ]
  },
  {
   "cell_type": "code",
   "execution_count": 161,
   "id": "2d83230d",
   "metadata": {},
   "outputs": [
    {
     "name": "stdout",
     "output_type": "stream",
     "text": [
      "0\n",
      "1\n",
      "2\n",
      "3\n",
      "4\n",
      "5\n",
      "6\n",
      "7\n",
      "8\n",
      "9\n"
     ]
    }
   ],
   "source": [
    "for i in range(0,10):\n",
    "    print(i)"
   ]
  },
  {
   "cell_type": "code",
   "execution_count": 162,
   "id": "bfc927fd",
   "metadata": {},
   "outputs": [
    {
     "name": "stdout",
     "output_type": "stream",
     "text": [
      "0\n",
      "1\n",
      "2\n",
      "3\n",
      "4\n",
      "5\n",
      "6\n",
      "7\n",
      "8\n",
      "9\n"
     ]
    }
   ],
   "source": [
    "for i in range(0,10,1):\n",
    "    print(i)"
   ]
  },
  {
   "cell_type": "markdown",
   "id": "b3a7e85a",
   "metadata": {},
   "source": [
    "## 12. Write a short program that prints the numbers 1 to 10 using a for loop. Then write an equivalent program that prints the numbers 1 to 10 using a while loop.\n",
    "### Answer:- "
   ]
  },
  {
   "cell_type": "code",
   "execution_count": 163,
   "id": "0145bb39",
   "metadata": {},
   "outputs": [
    {
     "name": "stdout",
     "output_type": "stream",
     "text": [
      "1\n",
      "2\n",
      "3\n",
      "4\n",
      "5\n",
      "6\n",
      "7\n",
      "8\n",
      "9\n",
      "10\n"
     ]
    }
   ],
   "source": [
    "# Using for loop\n",
    "for i in range(1,11):\n",
    "    print(i)"
   ]
  },
  {
   "cell_type": "code",
   "execution_count": 164,
   "id": "3a01fab2",
   "metadata": {},
   "outputs": [
    {
     "name": "stdout",
     "output_type": "stream",
     "text": [
      "1\n",
      "2\n",
      "3\n",
      "4\n",
      "5\n",
      "6\n",
      "7\n",
      "8\n",
      "9\n",
      "10\n"
     ]
    }
   ],
   "source": [
    "# Using while loop\n",
    "i = 1\n",
    "while i <= 10:\n",
    "    print(i)\n",
    "    i = i + 1"
   ]
  },
  {
   "cell_type": "markdown",
   "id": "fc2266bd",
   "metadata": {},
   "source": [
    "## 13. If you had a function named bacon() inside a module named spam, how would you call it after importing spam?\n",
    "### Answer:-"
   ]
  },
  {
   "cell_type": "markdown",
   "id": "b117dda5",
   "metadata": {},
   "source": [
    "- This function can be called with spam.bacon().\n",
    "- import spam\n",
    "- a = spam.bacon()"
   ]
  }
 ],
 "metadata": {
  "kernelspec": {
   "display_name": "Python 3 (ipykernel)",
   "language": "python",
   "name": "python3"
  },
  "language_info": {
   "codemirror_mode": {
    "name": "ipython",
    "version": 3
   },
   "file_extension": ".py",
   "mimetype": "text/x-python",
   "name": "python",
   "nbconvert_exporter": "python",
   "pygments_lexer": "ipython3",
   "version": "3.9.7"
  }
 },
 "nbformat": 4,
 "nbformat_minor": 5
}
