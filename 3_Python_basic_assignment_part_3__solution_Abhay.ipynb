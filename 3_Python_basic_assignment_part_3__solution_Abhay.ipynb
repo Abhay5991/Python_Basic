{
 "cells": [
  {
   "cell_type": "markdown",
   "id": "6396cd3a",
   "metadata": {},
   "source": [
    "# Assignment_3"
   ]
  },
  {
   "cell_type": "markdown",
   "id": "232e1222",
   "metadata": {},
   "source": [
    "## 1. Why are functions advantageous to have in your programs?\n",
    "### Answer:- "
   ]
  },
  {
   "cell_type": "markdown",
   "id": "102f4479",
   "metadata": {},
   "source": [
    "- Advantages of functions in Python\n",
    "    - Reducing duplication of code\n",
    "    - Improving clarity of the code\n",
    "    - Reuse of code\n",
    "    - Information hiding\n",
    "    - It helps to divide the large programs into small groups so that we can read the code, and debug the program faster and better.\n",
    "    - Python Functions stop us from writing the same logic various times. We can bind the logic in one def and then call the same over and over.\n",
    "    - Many persons can work on the same program by assigning different functions to each of them.\n",
    "    - It encourages us to call the same function with different inputs over multiple times."
   ]
  },
  {
   "cell_type": "markdown",
   "id": "b8f8923d",
   "metadata": {},
   "source": [
    "## 2. When does the code in a function run: when it's specified or when it's called?\n",
    "### Answer:- "
   ]
  },
  {
   "cell_type": "markdown",
   "id": "02c815b0",
   "metadata": {},
   "source": [
    "The code in a function run when the function is called, not when the function is defined.When a function is \"called\" the program \"leaves\" the current section of code and begins to execute the first line inside the function."
   ]
  },
  {
   "cell_type": "markdown",
   "id": "571bce82",
   "metadata": {},
   "source": [
    "## 3. What statement creates a function?\n",
    "### Answer:- "
   ]
  },
  {
   "cell_type": "raw",
   "id": "a638fa00",
   "metadata": {},
   "source": [
    "The def function_Name() creates a function\n",
    "- The syntax of the Functions in Python Programming is\n",
    "\n",
    "def Function_Name (Parameters):\n",
    "        Local Variable Declaration\n",
    "        Programming Logic\n",
    "        Executable Statement 1\n",
    "        ……\n",
    "        return"
   ]
  },
  {
   "cell_type": "markdown",
   "id": "2e3f7424",
   "metadata": {},
   "source": [
    "## 4. What is the difference between a function and a function call?\n",
    "### Answer:- "
   ]
  },
  {
   "cell_type": "markdown",
   "id": "5cc6512e",
   "metadata": {},
   "source": [
    "- A function:- Python Function is a piece of code or any logic that performs the specific operation\n",
    "- Function call:- A function call means invoking or calling that function. Unless a function is called there is no use of that function.\n",
    "- Difference:- A function is procedure to achieve a particular result while function call is using this function to achive that task."
   ]
  },
  {
   "cell_type": "markdown",
   "id": "447b4d78",
   "metadata": {},
   "source": [
    "## 5. How many global scopes are there in a Python program? How many local scopes?\n",
    "### Answer:-"
   ]
  },
  {
   "cell_type": "markdown",
   "id": "e734934f",
   "metadata": {},
   "source": [
    "There’s only one global Python scope per program execution.and also There’s only one local Python scope per program execution"
   ]
  },
  {
   "cell_type": "markdown",
   "id": "22f93aec",
   "metadata": {},
   "source": [
    "## 6. What happens to variables in a local scope when the function call returns?\n",
    "### Answer:- "
   ]
  },
  {
   "cell_type": "markdown",
   "id": "cf9cf695",
   "metadata": {},
   "source": [
    " in a local scope when the function call returns then  the local scope is destroyed, and all the variables in it are forgotten."
   ]
  },
  {
   "cell_type": "markdown",
   "id": "910a5510",
   "metadata": {},
   "source": [
    "## 7. What is the concept of a return value? Is it possible to have a return value in an expression?\n",
    "### Answer:- "
   ]
  },
  {
   "cell_type": "markdown",
   "id": "f4bfceca",
   "metadata": {},
   "source": [
    "- The Python return statement is a special statement that you can use inside a function or method to send the function’s result back to the caller. A return statement consists of the return keyword followed by an optional return value. The return value of a Python function can be any Python object. Everything in Python is an object.\n",
    "- A return value is the value that a function call evaluates to. Like any value, a return value can be used as part of an expression."
   ]
  },
  {
   "cell_type": "markdown",
   "id": "24b1f0ed",
   "metadata": {},
   "source": [
    "## 8. If a function does not have a return statement, what is the return value of a call to that function?\n",
    "### Answer:- "
   ]
  },
  {
   "cell_type": "markdown",
   "id": "61fdb6f4",
   "metadata": {},
   "source": [
    "- If there is no return statement for a function, its return value is None."
   ]
  },
  {
   "cell_type": "markdown",
   "id": "bc373e47",
   "metadata": {},
   "source": [
    "## 9. How do you make a function variable refer to the global variable?\n",
    "### Answer:- "
   ]
  },
  {
   "cell_type": "markdown",
   "id": "895f94a4",
   "metadata": {},
   "source": [
    "- To create a global variable inside a function, you can use the global keyword. If you use the global keyword, the variable belongs to the global scope: Also, use the global keyword if you want to change a global variable inside a function. To change the value of a global variable inside a function, refer to the variable by using the global keyword:"
   ]
  },
  {
   "cell_type": "markdown",
   "id": "c56b5649",
   "metadata": {},
   "source": [
    "## 10. What is the data type of None?\n",
    "### Answer:-"
   ]
  },
  {
   "cell_type": "markdown",
   "id": "e6265dbf",
   "metadata": {},
   "source": [
    "- None datatype doesn’t contain any value.\n",
    "- None keyword is used to define a null variable or object.\n",
    "- None keyword is immutable.\n",
    "- None keyword is an object and is a data type of none type class."
   ]
  },
  {
   "cell_type": "markdown",
   "id": "34914c54",
   "metadata": {},
   "source": [
    "## 11. What does the sentence import areallyourpetsnamederic do?\n",
    "### Answer:- "
   ]
  },
  {
   "cell_type": "markdown",
   "id": "d3582153",
   "metadata": {},
   "source": [
    "- That import statement imports a module named areallyourpetsnamederic. (This isn’t a real Python module, by the way.)"
   ]
  },
  {
   "cell_type": "markdown",
   "id": "92684482",
   "metadata": {},
   "source": [
    "## 12. If you had a bacon() feature in a spam module, what would you call it after importing spam?\n",
    "### Answer:-"
   ]
  },
  {
   "cell_type": "markdown",
   "id": "c3dec603",
   "metadata": {},
   "source": [
    "- This function can be called with spam.bacon()."
   ]
  },
  {
   "cell_type": "markdown",
   "id": "7298db39",
   "metadata": {},
   "source": [
    "## 13. What can you do to save a programme from crashing if it encounters an error?\n",
    "### Answer:-"
   ]
  },
  {
   "cell_type": "markdown",
   "id": "a4c3f044",
   "metadata": {},
   "source": [
    "- we can write lines of code in try block. This will not crash the programme. And in except block we can catch the \n",
    "exception"
   ]
  },
  {
   "cell_type": "code",
   "execution_count": 3,
   "id": "716ece1f",
   "metadata": {},
   "outputs": [
    {
     "name": "stdout",
     "output_type": "stream",
     "text": [
      "This code be running\n"
     ]
    }
   ],
   "source": [
    "try:\n",
    "    print('This code be running') # your code here\n",
    "except Exception as e:\n",
    "    print('This code NOT be running because of', e)"
   ]
  },
  {
   "cell_type": "markdown",
   "id": "61fef700",
   "metadata": {},
   "source": [
    "## 14. What is the purpose of the try clause? What is the purpose of the except clause?\n",
    "### Answer:-"
   ]
  },
  {
   "cell_type": "markdown",
   "id": "6d464d65",
   "metadata": {},
   "source": [
    "- try : The code that could potentially cause an error goes in the try clause.The try block lets you test a block of code for errors.\n",
    "- except : The code that executes if an error happens goes in the except clause, The except block lets you handle the error."
   ]
  }
 ],
 "metadata": {
  "kernelspec": {
   "display_name": "Python 3 (ipykernel)",
   "language": "python",
   "name": "python3"
  },
  "language_info": {
   "codemirror_mode": {
    "name": "ipython",
    "version": 3
   },
   "file_extension": ".py",
   "mimetype": "text/x-python",
   "name": "python",
   "nbconvert_exporter": "python",
   "pygments_lexer": "ipython3",
   "version": "3.9.7"
  }
 },
 "nbformat": 4,
 "nbformat_minor": 5
}
