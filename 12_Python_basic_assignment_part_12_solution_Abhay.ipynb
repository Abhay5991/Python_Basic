{
 "cells": [
  {
   "cell_type": "markdown",
   "id": "ca1bbf01",
   "metadata": {},
   "source": [
    "# Python_basic_assignment_part_12"
   ]
  },
  {
   "cell_type": "markdown",
   "id": "35333abb",
   "metadata": {},
   "source": [
    "## 1. In what modes should the PdfFileReader() and PdfFileWriter() File objects will be opened?\n",
    "### Answer:-"
   ]
  },
  {
   "cell_type": "markdown",
   "id": "6251c3e6",
   "metadata": {},
   "source": [
    "- These files will be opened in binary mode., read binary (rb) for PdfFileREader() and write binary (wb) PdfFileWriter()\n",
    "- the File object passed to PyPDF2.PdfFileReader() needs to be opened in read-binary mode by passing 'rb' as the second argument to open(). Likewise, the File object passed to PyPDF2.PdfFileWriter() needs to be opened in write-binary mode with 'wb'."
   ]
  },
  {
   "cell_type": "code",
   "execution_count": 5,
   "id": "1b189afd",
   "metadata": {},
   "outputs": [],
   "source": [
    "import PyPDF2"
   ]
  },
  {
   "cell_type": "code",
   "execution_count": 8,
   "id": "a9f5ba8c",
   "metadata": {},
   "outputs": [],
   "source": [
    "import PyPDF2\n",
    "pdfFileObj = open('meetingminutes.pdf', 'rb')\n",
    "pdfReader = PyPDF2.PdfFileReader(pdfFileObj)"
   ]
  },
  {
   "cell_type": "code",
   "execution_count": 11,
   "id": "cb9946d5",
   "metadata": {},
   "outputs": [
    {
     "data": {
      "text/plain": [
       "19"
      ]
     },
     "execution_count": 11,
     "metadata": {},
     "output_type": "execute_result"
    }
   ],
   "source": [
    "pdfReader.numPages"
   ]
  },
  {
   "cell_type": "code",
   "execution_count": 10,
   "id": "ebcee2b3",
   "metadata": {},
   "outputs": [],
   "source": [
    "pdfOutputFile = open('combinedminutes.pdf', 'wb')"
   ]
  },
  {
   "cell_type": "markdown",
   "id": "8a5392bb",
   "metadata": {},
   "source": [
    "## 2. From a PdfFileReader object, how do you get a Page object for page 5?\n",
    "### Answer:-"
   ]
  },
  {
   "cell_type": "markdown",
   "id": "55d66ae1",
   "metadata": {},
   "source": [
    "- Calling getPage(4) will return a Page object for page 5 since page 0 is the first page"
   ]
  },
  {
   "cell_type": "code",
   "execution_count": 13,
   "id": "34370134",
   "metadata": {},
   "outputs": [
    {
     "data": {
      "text/plain": [
       "'BOARD MINUTES\\n -4- MARCH 7, 2014\\n   5.1.\\n9 On motion of Dr. Miranti, seconded by Mr. Lee, \\nthe Board \\napproved\\n, as a \\nNotice of Intent, revisions to Bulletin 1566, \\nPupil Progression Policies and \\nProcedures\\n:  §503.  Regular Placement\\n, as presented by the LDE\\n.  5.1.\\n10 On motion of Dr. Miranti, seconded by Mr. Lee, \\nthe Board \\napproved\\n, as a \\nNotice of Intent, revisions to Bulletin 111, \\nThe Louisiana School, District, \\nand State Accountability System\\n: §301. School Performance Score Goal; \\n§303. Transition from Fall 2013 to Sp\\nring 2015; §413. Dropout/Credit \\nAccumulation Index Calculations; §517. Inclusion of Schools; §521. \\nPairing/Sharing of Schools with Insufficient Test Data; §603. Determining \\na Cohort for \\na Graduation; §611. Documenting a Graduation Index; \\n§1301. Reward Elig\\nibility; §2301. Schools Requiring \\nReconstitution/Alternate Governance Plans; §3101. Appeals/Waivers and \\nData Certification Processes; §3301. Inclusion of New Schools; §3303. \\nReconfigured Schools; §4101. Valid Data Considerations; §4301. \\nInclusion of All Di\\nstricts; and §4317. District Accountability Data \\nCorrections\\n, as presented by the LDE\\n.  Dr. Beebe was recorded as being opposed to the motion.\\n  5.1.\\n11 On motion of \\nDr. Miranti,\\n seconded by \\nMr. Lee,\\n the Board receive\\nd the \\nSummary of Public Comments and Age\\nncy Response regarding revisions\\n to Bulletin 135, \\nHealth and Safety\\n:  Chapter 5. \\n Injury Management \\nProgram Rules for Serious Sports Injuries and Chapter 7: Glossary, and \\ndirect\\ned BESE staff to pr\\noceed\\n with the final adoption of the January 20, \\n2014, Notic\\ne of Intent regarding revisions to Bulletin 135, \\nHealth and \\nSafety\\n, Chapters 5 and\\n 7.  Agenda\\n Item 5.2.\\n Administration and Finance Committee\\n (Schedule 3)\\n   5.2.\\n1 On motion of \\nMr. Guillot,\\n seconded by \\nMr. Lee\\n, the Board \\nreceived\\n the \\nreport on 8(g) monitor\\ning visits conducted by Board staff.\\n  5.2.\\n2 On motion of Mr. Guillot, seconded by Mr. Lee, \\nthe Board \\nreceived\\n the \\nquarterly report from the LDE Director of Internal Audit.\\n  5.2.\\n3 On motion of Mr. Guillot, seconded by Mr. Lee, \\nthe Board \\nreceived\\n the \\nrepor\\nt on LDE contracts of $50,000 and under approved by the State \\nSuperintendent of Education.\\n  '"
      ]
     },
     "execution_count": 13,
     "metadata": {},
     "output_type": "execute_result"
    }
   ],
   "source": [
    "import PyPDF2 as pdf\n",
    "pdfFileObj = open(\"meetingminutes.pdf\",'rb')\n",
    "pdfReader = pdf.PdfFileReader(pdfFileObj)\n",
    "pageObj = pdfReader.getPage(4)\n",
    "pageObj.extractText()"
   ]
  },
  {
   "cell_type": "markdown",
   "id": "b94c6390",
   "metadata": {},
   "source": [
    "## 3. What PdfFileReader variable stores the number of pages in the PDF document?\n",
    "### Answer:-"
   ]
  },
  {
   "cell_type": "markdown",
   "id": "c0e67ad9",
   "metadata": {},
   "source": [
    "- The PdfFileReader.numPages variable stores an integer of the number of pages in the PdfFileReader object"
   ]
  },
  {
   "cell_type": "code",
   "execution_count": 12,
   "id": "ae2b4d38",
   "metadata": {},
   "outputs": [
    {
     "data": {
      "text/plain": [
       "19"
      ]
     },
     "execution_count": 12,
     "metadata": {},
     "output_type": "execute_result"
    }
   ],
   "source": [
    "import PyPDF2\n",
    "pdfFileObj = open('meetingminutes.pdf', 'rb')\n",
    "pdfReader = PyPDF2.PdfFileReader(pdfFileObj)\n",
    "pdfReader.numPages"
   ]
  },
  {
   "cell_type": "markdown",
   "id": "42f34943",
   "metadata": {},
   "source": [
    "## 4. If a PdfFileReader object’s PDF is encrypted with the password swordfish, what must you do before you can obtain Page objects from it?\n",
    "### Answer:-"
   ]
  },
  {
   "cell_type": "markdown",
   "id": "ef116926",
   "metadata": {},
   "source": [
    "- before we obtain the page object, the pdf has to be decrypted by calling .decrypt('swordfish')"
   ]
  },
  {
   "cell_type": "code",
   "execution_count": 15,
   "id": "79310fd6",
   "metadata": {},
   "outputs": [
    {
     "data": {
      "text/plain": [
       "True"
      ]
     },
     "execution_count": 15,
     "metadata": {},
     "output_type": "execute_result"
    }
   ],
   "source": [
    "import PyPDF2\n",
    "pdfReader = PyPDF2.PdfFileReader(open('encrypted.pdf', 'rb'))\n",
    "pdfReader.isEncrypted\n"
   ]
  },
  {
   "cell_type": "code",
   "execution_count": 16,
   "id": "a995f327",
   "metadata": {},
   "outputs": [
    {
     "data": {
      "text/plain": [
       "1"
      ]
     },
     "execution_count": 16,
     "metadata": {},
     "output_type": "execute_result"
    }
   ],
   "source": [
    "pdfReader.decrypt('rosebud')"
   ]
  },
  {
   "cell_type": "markdown",
   "id": "56fdd18e",
   "metadata": {},
   "source": [
    "## 5. What methods do you use to rotate a page?\n",
    "### Answer:-"
   ]
  },
  {
   "cell_type": "markdown",
   "id": "53390513",
   "metadata": {},
   "source": [
    "- The rotateClockwise() and rotateCounterClockwise() methods. "
   ]
  },
  {
   "cell_type": "raw",
   "id": "08bfd935",
   "metadata": {},
   "source": [
    "import PyPDF2\n",
    "minutesFile = open('meetingminutes.pdf', 'rb')\n",
    "pdfReader = PyPDF2.PdfFileReader(minutesFile)\n",
    "page = pdfReader.getPage(0)\n",
    "page.rotateClockwise(90)\n"
   ]
  },
  {
   "cell_type": "markdown",
   "id": "97ebea99",
   "metadata": {},
   "source": [
    "## 6. What is the difference between a Run object and a Paragraph object?\n",
    "### Answer:-"
   ]
  },
  {
   "cell_type": "markdown",
   "id": "bd86aeb4",
   "metadata": {},
   "source": [
    "- Run object:-  A run-time object is the actual object in your application on which methods are performed during the run session.\n",
    "- Paragraph object :- Each of these Paragraph objects has a text attribute that contains a string of the text in that paragraph (without the style information)"
   ]
  },
  {
   "cell_type": "markdown",
   "id": "a046e5cf",
   "metadata": {},
   "source": [
    "## 7. How do you obtain a list of Paragraph objects for a Document object that’s stored in a variable named doc?\n",
    "### Answer:-"
   ]
  },
  {
   "cell_type": "markdown",
   "id": "34d5f93c",
   "metadata": {},
   "source": [
    "- By using doc.paragraphs\n",
    "- pip install python-docx"
   ]
  },
  {
   "cell_type": "code",
   "execution_count": 6,
   "id": "c12bf376",
   "metadata": {},
   "outputs": [
    {
     "data": {
      "text/plain": [
       "[<docx.text.paragraph.Paragraph at 0x243f9ba5dc0>,\n",
       " <docx.text.paragraph.Paragraph at 0x243f9ba5850>,\n",
       " <docx.text.paragraph.Paragraph at 0x243f9ba5a90>,\n",
       " <docx.text.paragraph.Paragraph at 0x243f9ba5c40>,\n",
       " <docx.text.paragraph.Paragraph at 0x243f9ba59a0>,\n",
       " <docx.text.paragraph.Paragraph at 0x243f9ba5b50>,\n",
       " <docx.text.paragraph.Paragraph at 0x243f9ba5a00>]"
      ]
     },
     "execution_count": 6,
     "metadata": {},
     "output_type": "execute_result"
    }
   ],
   "source": [
    "import docx\n",
    "doc = docx.Document('demo.docx')\n",
    "doc.paragraphs"
   ]
  },
  {
   "cell_type": "markdown",
   "id": "d30f7104",
   "metadata": {},
   "source": [
    "## 8. What type of object has bold, underline, italic, strike, and outline variables?\n",
    "### Answer:-"
   ]
  },
  {
   "cell_type": "markdown",
   "id": "53989899",
   "metadata": {},
   "source": [
    "- A Run object has bold, underline,italic,strike and outline variables"
   ]
  },
  {
   "cell_type": "code",
   "execution_count": 7,
   "id": "b75a0d96",
   "metadata": {},
   "outputs": [
    {
     "data": {
      "text/plain": [
       "7"
      ]
     },
     "execution_count": 7,
     "metadata": {},
     "output_type": "execute_result"
    }
   ],
   "source": [
    "import docx\n",
    "doc = docx.Document('demo.docx')\n",
    "len(doc.paragraphs)\n"
   ]
  },
  {
   "cell_type": "code",
   "execution_count": 8,
   "id": "18d2cbf6",
   "metadata": {},
   "outputs": [
    {
     "data": {
      "text/plain": [
       "'Document Title'"
      ]
     },
     "execution_count": 8,
     "metadata": {},
     "output_type": "execute_result"
    }
   ],
   "source": [
    "doc.paragraphs[0].text"
   ]
  },
  {
   "cell_type": "code",
   "execution_count": 9,
   "id": "a860f125",
   "metadata": {},
   "outputs": [
    {
     "data": {
      "text/plain": [
       "'A plain paragraph with some bold and some italic'"
      ]
     },
     "execution_count": 9,
     "metadata": {},
     "output_type": "execute_result"
    }
   ],
   "source": [
    "doc.paragraphs[1].text"
   ]
  },
  {
   "cell_type": "code",
   "execution_count": 10,
   "id": "725345ca",
   "metadata": {},
   "outputs": [
    {
     "data": {
      "text/plain": [
       "5"
      ]
     },
     "execution_count": 10,
     "metadata": {},
     "output_type": "execute_result"
    }
   ],
   "source": [
    "len(doc.paragraphs[1].runs)"
   ]
  },
  {
   "cell_type": "code",
   "execution_count": 11,
   "id": "2a863eaf",
   "metadata": {},
   "outputs": [
    {
     "data": {
      "text/plain": [
       "'A plain paragraph with'"
      ]
     },
     "execution_count": 11,
     "metadata": {},
     "output_type": "execute_result"
    }
   ],
   "source": [
    "doc.paragraphs[1].runs[0].text\n"
   ]
  },
  {
   "cell_type": "code",
   "execution_count": 12,
   "id": "b58c309b",
   "metadata": {},
   "outputs": [
    {
     "data": {
      "text/plain": [
       "' some '"
      ]
     },
     "execution_count": 12,
     "metadata": {},
     "output_type": "execute_result"
    }
   ],
   "source": [
    "doc.paragraphs[1].runs[1].text"
   ]
  },
  {
   "cell_type": "code",
   "execution_count": 13,
   "id": "e1a42fa3",
   "metadata": {},
   "outputs": [
    {
     "data": {
      "text/plain": [
       "'bold'"
      ]
     },
     "execution_count": 13,
     "metadata": {},
     "output_type": "execute_result"
    }
   ],
   "source": [
    "doc.paragraphs[1].runs[2].text"
   ]
  },
  {
   "cell_type": "code",
   "execution_count": 14,
   "id": "b30e6e0b",
   "metadata": {},
   "outputs": [
    {
     "data": {
      "text/plain": [
       "' and some '"
      ]
     },
     "execution_count": 14,
     "metadata": {},
     "output_type": "execute_result"
    }
   ],
   "source": [
    "doc.paragraphs[1].runs[3].text"
   ]
  },
  {
   "cell_type": "markdown",
   "id": "406e9bfe",
   "metadata": {},
   "source": [
    "## 9. What is the difference between False, True, and None for the bold variable?\n",
    "### Answer:-"
   ]
  },
  {
   "cell_type": "markdown",
   "id": "b813aebe",
   "metadata": {},
   "source": [
    "- True (the attribute is always enabled, no matter what other styles are applied to the run), \n",
    "- False (the attribute is always disabled),\n",
    "- None (defaults to whatever the run’s style is set to)"
   ]
  },
  {
   "cell_type": "markdown",
   "id": "1a68915c",
   "metadata": {},
   "source": [
    "## 10. How do you create a Document object for a new Word document?\n",
    "### Answer:-"
   ]
  },
  {
   "cell_type": "markdown",
   "id": "215d3483",
   "metadata": {},
   "source": [
    "- To create your own .docx file, call docx.Document() to return a new, blank Word Document object."
   ]
  },
  {
   "cell_type": "markdown",
   "id": "1db54fe9",
   "metadata": {},
   "source": [
    "## 11. How do you add a paragraph with the text 'Hello, there!' to a Document object stored in a variable named doc?\n",
    "### Answer:-"
   ]
  },
  {
   "cell_type": "code",
   "execution_count": 15,
   "id": "e81385b6",
   "metadata": {},
   "outputs": [
    {
     "data": {
      "text/plain": [
       "<docx.text.paragraph.Paragraph at 0x243f9e96e80>"
      ]
     },
     "execution_count": 15,
     "metadata": {},
     "output_type": "execute_result"
    }
   ],
   "source": [
    "import docx\n",
    "doc = docx.Document()\n",
    "\n",
    "doc.add_paragraph('Hello there!')"
   ]
  },
  {
   "cell_type": "code",
   "execution_count": 16,
   "id": "e285915e",
   "metadata": {},
   "outputs": [],
   "source": [
    "doc.save('hellothere.docx')"
   ]
  },
  {
   "cell_type": "markdown",
   "id": "98a8ffeb",
   "metadata": {},
   "source": [
    "## 12. What integers represent the levels of headings available in Word documents?\n",
    "### Answer:-"
   ]
  },
  {
   "cell_type": "markdown",
   "id": "a322fc28",
   "metadata": {},
   "source": [
    "-  integer from 0 to 4 represent the levels of headings available in Word documents\n",
    "- The arguments to add_heading() are a string of the heading text and an integer from 0 to 4. The integer 0 makes the heading the Title style, which is used for the top of the document. Integers 1 to 4 are for various heading levels, with 1 being the main heading and 4 the lowest subheading."
   ]
  },
  {
   "cell_type": "code",
   "execution_count": 17,
   "id": "5f4cffa8",
   "metadata": {},
   "outputs": [
    {
     "data": {
      "text/plain": [
       "<docx.text.paragraph.Paragraph at 0x243f9f8b250>"
      ]
     },
     "execution_count": 17,
     "metadata": {},
     "output_type": "execute_result"
    }
   ],
   "source": [
    "doc = docx.Document()\n",
    "doc.add_heading('Header 0', 0)"
   ]
  },
  {
   "cell_type": "code",
   "execution_count": 18,
   "id": "f10a60c6",
   "metadata": {},
   "outputs": [
    {
     "data": {
      "text/plain": [
       "<docx.text.paragraph.Paragraph at 0x243f9fa6c40>"
      ]
     },
     "execution_count": 18,
     "metadata": {},
     "output_type": "execute_result"
    }
   ],
   "source": [
    "doc.add_heading('Header 1', 1)"
   ]
  },
  {
   "cell_type": "code",
   "execution_count": 19,
   "id": "8997a12c",
   "metadata": {},
   "outputs": [
    {
     "data": {
      "text/plain": [
       "<docx.text.paragraph.Paragraph at 0x243f9f8b760>"
      ]
     },
     "execution_count": 19,
     "metadata": {},
     "output_type": "execute_result"
    }
   ],
   "source": [
    "doc.add_heading('Header 2', 2)"
   ]
  },
  {
   "cell_type": "code",
   "execution_count": 20,
   "id": "a4d2b227",
   "metadata": {},
   "outputs": [
    {
     "data": {
      "text/plain": [
       "<docx.text.paragraph.Paragraph at 0x243f9fa6f70>"
      ]
     },
     "execution_count": 20,
     "metadata": {},
     "output_type": "execute_result"
    }
   ],
   "source": [
    "doc.add_heading('Header 3', 3)"
   ]
  },
  {
   "cell_type": "code",
   "execution_count": 21,
   "id": "c72248f9",
   "metadata": {},
   "outputs": [
    {
     "data": {
      "text/plain": [
       "<docx.text.paragraph.Paragraph at 0x243f9fa6d60>"
      ]
     },
     "execution_count": 21,
     "metadata": {},
     "output_type": "execute_result"
    }
   ],
   "source": [
    "doc.add_heading('Header 4', 4)"
   ]
  },
  {
   "cell_type": "code",
   "execution_count": 22,
   "id": "d7d9bb12",
   "metadata": {},
   "outputs": [],
   "source": [
    "doc.save('headings.docx')"
   ]
  }
 ],
 "metadata": {
  "kernelspec": {
   "display_name": "Python 3 (ipykernel)",
   "language": "python",
   "name": "python3"
  },
  "language_info": {
   "codemirror_mode": {
    "name": "ipython",
    "version": 3
   },
   "file_extension": ".py",
   "mimetype": "text/x-python",
   "name": "python",
   "nbconvert_exporter": "python",
   "pygments_lexer": "ipython3",
   "version": "3.9.7"
  }
 },
 "nbformat": 4,
 "nbformat_minor": 5
}
