{
 "cells": [
  {
   "cell_type": "markdown",
   "id": "092463b5",
   "metadata": {},
   "source": [
    "# Python_basic_assignment_part_5"
   ]
  },
  {
   "cell_type": "markdown",
   "id": "8208f746",
   "metadata": {},
   "source": [
    "## 1. What does an empty dictionary's code look like?\n",
    "### Answer:-"
   ]
  },
  {
   "cell_type": "markdown",
   "id": "29ceaa12",
   "metadata": {},
   "source": [
    "- items= {}\n",
    "- An empty dictionary without any items is written with just two curly braces, like this: {}"
   ]
  },
  {
   "cell_type": "code",
   "execution_count": 1,
   "id": "49d3330a",
   "metadata": {},
   "outputs": [
    {
     "data": {
      "text/plain": [
       "dict"
      ]
     },
     "execution_count": 1,
     "metadata": {},
     "output_type": "execute_result"
    }
   ],
   "source": [
    "items = {}\n",
    "type(items)\n"
   ]
  },
  {
   "cell_type": "markdown",
   "id": "1146f82a",
   "metadata": {},
   "source": [
    "## 2. What is the value of a dictionary value with the key 'foo' and the value 42?\n",
    "### Answer:-"
   ]
  },
  {
   "cell_type": "code",
   "execution_count": 3,
   "id": "b3e45f2b",
   "metadata": {},
   "outputs": [
    {
     "data": {
      "text/plain": [
       "{'foo': 42}"
      ]
     },
     "execution_count": 3,
     "metadata": {},
     "output_type": "execute_result"
    }
   ],
   "source": [
    "dic= {'foo':42}\n",
    "dic"
   ]
  },
  {
   "cell_type": "markdown",
   "id": "ce20a7d6",
   "metadata": {},
   "source": [
    "## 3. What is the most significant distinction between a dictionary and a list?\n",
    "### Answer:-"
   ]
  },
  {
   "cell_type": "markdown",
   "id": "fcb25965",
   "metadata": {},
   "source": [
    "- Most significant difference:\n",
    "    - List - items in list are Ordered\n",
    "    - Dictionary : iten in dictionary are unordered\n",
    "\n",
    "- Dictionary:-\n",
    "    - Dictionary is a hashed structure of key and value pairs.\n",
    "    - Dictionary is created by placing elements in { } as “key”:”value”, each key value pair is separated by commas “, “\n",
    "    - The keys of dictionary can be of any data type.\n",
    "    - The elements are accessed via key-values.\n",
    "    - There is no guarantee for maintaining order.\n",
    "- List :- \n",
    "    - List is a collection of index values pairs \n",
    "    - List is created by placing elements in [ ] separated by commas “, “\n",
    "    - The indices of list are integers starting from 0.\n",
    "    - The elements are accessed via indices.\n",
    "    - The order of the elements entered are maintained."
   ]
  },
  {
   "cell_type": "markdown",
   "id": "1833375b",
   "metadata": {},
   "source": [
    "## 4. What happens if you try to access spam['foo'] if spam is {'bar': 100}?\n",
    "### Answer:-"
   ]
  },
  {
   "cell_type": "code",
   "execution_count": 4,
   "id": "66a269a3",
   "metadata": {},
   "outputs": [],
   "source": [
    "spam= {'bar': 100}"
   ]
  },
  {
   "cell_type": "code",
   "execution_count": 5,
   "id": "edb5f3c7",
   "metadata": {},
   "outputs": [
    {
     "ename": "KeyError",
     "evalue": "'foo'",
     "output_type": "error",
     "traceback": [
      "\u001b[1;31m---------------------------------------------------------------------------\u001b[0m",
      "\u001b[1;31mKeyError\u001b[0m                                  Traceback (most recent call last)",
      "\u001b[1;32m~\\AppData\\Local\\Temp/ipykernel_12876/3999281786.py\u001b[0m in \u001b[0;36m<module>\u001b[1;34m\u001b[0m\n\u001b[1;32m----> 1\u001b[1;33m \u001b[0mspam\u001b[0m\u001b[1;33m[\u001b[0m\u001b[1;34m'foo'\u001b[0m\u001b[1;33m]\u001b[0m\u001b[1;33m\u001b[0m\u001b[1;33m\u001b[0m\u001b[0m\n\u001b[0m",
      "\u001b[1;31mKeyError\u001b[0m: 'foo'"
     ]
    }
   ],
   "source": [
    "spam['foo'] #This will give us KeyError: 'foo'"
   ]
  },
  {
   "cell_type": "markdown",
   "id": "350eec07",
   "metadata": {},
   "source": [
    "## 5. If a dictionary is stored in spam, what is the difference between the expressions 'cat' in spam and 'cat' in spam.keys()?\n",
    "### Answer:-"
   ]
  },
  {
   "cell_type": "markdown",
   "id": "2f6ab3fc",
   "metadata": {},
   "source": [
    "- There is no difference, both check if 'cat' is key of the dictionary and if it is a key, then returns True."
   ]
  },
  {
   "cell_type": "code",
   "execution_count": 6,
   "id": "3c58cdb6",
   "metadata": {},
   "outputs": [],
   "source": [
    "spam ={'cat':100}\n"
   ]
  },
  {
   "cell_type": "code",
   "execution_count": 7,
   "id": "97a85b39",
   "metadata": {},
   "outputs": [
    {
     "data": {
      "text/plain": [
       "True"
      ]
     },
     "execution_count": 7,
     "metadata": {},
     "output_type": "execute_result"
    }
   ],
   "source": [
    "'cat' in spam"
   ]
  },
  {
   "cell_type": "code",
   "execution_count": 8,
   "id": "6215a729",
   "metadata": {},
   "outputs": [
    {
     "data": {
      "text/plain": [
       "True"
      ]
     },
     "execution_count": 8,
     "metadata": {},
     "output_type": "execute_result"
    }
   ],
   "source": [
    "'cat' in spam.keys()"
   ]
  },
  {
   "cell_type": "markdown",
   "id": "c2049755",
   "metadata": {},
   "source": [
    "## 6. If a dictionary is stored in spam, what is the difference between the expressions 'cat' in spam and 'cat' in spam.values()?\n",
    "### Answer:-"
   ]
  },
  {
   "cell_type": "markdown",
   "id": "7f5e49ce",
   "metadata": {},
   "source": [
    "- 'cat' in spam checks whether there is a 'cat' key is available in the dictionary or not? if available then it return True otherwise False.\n",
    "- 'cat' in spam.values() checks whether there is a value 'cat' is available or not ,for one of the keys in spam."
   ]
  },
  {
   "cell_type": "code",
   "execution_count": 10,
   "id": "0efbbed3",
   "metadata": {},
   "outputs": [
    {
     "data": {
      "text/plain": [
       "True"
      ]
     },
     "execution_count": 10,
     "metadata": {},
     "output_type": "execute_result"
    }
   ],
   "source": [
    "spam ={'cat':100}\n",
    "'cat' in spam"
   ]
  },
  {
   "cell_type": "code",
   "execution_count": 11,
   "id": "97150616",
   "metadata": {},
   "outputs": [
    {
     "data": {
      "text/plain": [
       "False"
      ]
     },
     "execution_count": 11,
     "metadata": {},
     "output_type": "execute_result"
    }
   ],
   "source": [
    "spam ={'cat':100}\n",
    "'cat' in spam.values() # value cat is not available so false"
   ]
  },
  {
   "cell_type": "markdown",
   "id": "c6259162",
   "metadata": {},
   "source": [
    "## 7. What is a shortcut for the following code?\n"
   ]
  },
  {
   "cell_type": "raw",
   "id": "43317714",
   "metadata": {},
   "source": [
    "if 'color' not in spam:\n",
    "spam['color'] = 'black'"
   ]
  },
  {
   "cell_type": "markdown",
   "id": "ea25f1f1",
   "metadata": {},
   "source": [
    " Answer:-\n",
    "-  This can be achieved by using setdefault() function which Inserts key 'color' with a value 'black' of default if key is not in the dictionary"
   ]
  },
  {
   "cell_type": "code",
   "execution_count": 12,
   "id": "ea4e5e72",
   "metadata": {},
   "outputs": [
    {
     "data": {
      "text/plain": [
       "{'cat': 100, 'color': 'black'}"
      ]
     },
     "execution_count": 12,
     "metadata": {},
     "output_type": "execute_result"
    }
   ],
   "source": [
    "spam ={'cat':100}\n",
    "spam.setdefault('color','black')\n",
    "spam"
   ]
  },
  {
   "cell_type": "markdown",
   "id": "9e41d08d",
   "metadata": {},
   "source": [
    "## 8. How do you \"pretty print\" dictionary values using which module and function?\n",
    "## Answer"
   ]
  },
  {
   "cell_type": "markdown",
   "id": "f6976da2",
   "metadata": {},
   "source": [
    "- pprint is a Python module that provides the capability to pretty print Python data types to be more readable. This module also supports pretty-printing dictionary.\n",
    "\n",
    "- Within the pprint module there is a function with the same name pprint(), which is the function used to pretty-print the given string or object.\n",
    "\n",
    "- First, declare an array of dictionaries. Afterward, pretty print it using the function pprint.pprint()."
   ]
  },
  {
   "cell_type": "code",
   "execution_count": 13,
   "id": "8b6bae76",
   "metadata": {},
   "outputs": [],
   "source": [
    "import pprint"
   ]
  },
  {
   "cell_type": "code",
   "execution_count": 18,
   "id": "70c171de",
   "metadata": {},
   "outputs": [],
   "source": [
    "dict_abhay = [\n",
    "  {'Name': 'Abhay', 'Age': '32', 'Country': 'Dehradun'},\n",
    "  {'Name': 'Kumar', 'Age': '34', 'Country': 'Delhi'},\n",
    "  {'Name': 'Aman', 'Age': '29', 'Country': 'UP'},\n",
    "  {'Name': 'Sunny', 'Age': '35', 'Country': 'Punjab'}\n",
    "]"
   ]
  },
  {
   "cell_type": "code",
   "execution_count": 19,
   "id": "73aca2c8",
   "metadata": {},
   "outputs": [
    {
     "name": "stdout",
     "output_type": "stream",
     "text": [
      "[{'Age': '32', 'Country': 'Dehradun', 'Name': 'Abhay'},\n",
      " {'Age': '34', 'Country': 'Delhi', 'Name': 'Kumar'},\n",
      " {'Age': '29', 'Country': 'UP', 'Name': 'Aman'},\n",
      " {'Age': '35', 'Country': 'Punjab', 'Name': 'Sunny'}]\n"
     ]
    }
   ],
   "source": [
    "pprint.pprint(dict_abhay)"
   ]
  },
  {
   "cell_type": "code",
   "execution_count": 20,
   "id": "e6531900",
   "metadata": {},
   "outputs": [
    {
     "name": "stdout",
     "output_type": "stream",
     "text": [
      "[{'Name': 'Abhay', 'Age': '32', 'Country': 'Dehradun'}, {'Name': 'Kumar', 'Age': '34', 'Country': 'Delhi'}, {'Name': 'Aman', 'Age': '29', 'Country': 'UP'}, {'Name': 'Sunny', 'Age': '35', 'Country': 'Punjab'}]\n"
     ]
    }
   ],
   "source": [
    "print(dict_abhay)"
   ]
  }
 ],
 "metadata": {
  "kernelspec": {
   "display_name": "Python 3 (ipykernel)",
   "language": "python",
   "name": "python3"
  },
  "language_info": {
   "codemirror_mode": {
    "name": "ipython",
    "version": 3
   },
   "file_extension": ".py",
   "mimetype": "text/x-python",
   "name": "python",
   "nbconvert_exporter": "python",
   "pygments_lexer": "ipython3",
   "version": "3.9.7"
  }
 },
 "nbformat": 4,
 "nbformat_minor": 5
}
